{
 "cells": [
  {
   "cell_type": "code",
   "execution_count": 27,
   "id": "f700cf8c",
   "metadata": {
    "ExecuteTime": {
     "end_time": "2021-09-15T15:48:23.392580Z",
     "start_time": "2021-09-15T15:48:23.379796Z"
    }
   },
   "outputs": [],
   "source": [
    "import numpy as np\n",
    "import pandas as pd\n",
    "import re\n",
    "import datetime\n",
    "import warnings\n",
    "import sys\n",
    "\n",
    "from miscfns.misc_fns import db_con,describe_dupe_cor_ans, get_item_cor_ans, recode_as_omitted, timing_exclusion, remove_repeat_questions, combine_CIinfo, removed_record_count, clean_item_data\n",
    "from miscfns.misc_fns import make_user_level_matrices, make_item_level_info, make_activity_level_info, make_user_level_info\n",
    "\n",
    "from miscfns.misc_fns import color"
   ]
  },
  {
   "cell_type": "markdown",
   "id": "8449cdfe",
   "metadata": {
    "heading_collapsed": true
   },
   "source": [
    "# Reading the data"
   ]
  },
  {
   "cell_type": "markdown",
   "id": "824f8901",
   "metadata": {
    "heading_collapsed": true,
    "hidden": true
   },
   "source": [
    "## COMLEX"
   ]
  },
  {
   "cell_type": "code",
   "execution_count": 28,
   "id": "e4fc3ebd",
   "metadata": {
    "ExecuteTime": {
     "end_time": "2021-09-15T15:48:30.294230Z",
     "start_time": "2021-09-15T15:48:30.279402Z"
    },
    "hidden": true
   },
   "outputs": [],
   "source": [
    "program = 'COMLEX'\n",
    "analysis_name = program\n",
    "results_path = 'C:\\\\Users\\\\VImmadisetty\\\\Downloads\\\\DATA\\\\DRCR\\\\MED\\\\Results\\\\'+program+'\\\\'\n",
    "path = 'C:\\\\Users\\\\VImmadisetty\\\\Downloads\\\\DATA\\\\DRCR\\\\MED\\\\Data\\\\'+program+'\\\\'"
   ]
  },
  {
   "cell_type": "code",
   "execution_count": 29,
   "id": "051816f3",
   "metadata": {
    "ExecuteTime": {
     "end_time": "2021-09-15T15:49:05.206770Z",
     "start_time": "2021-09-15T15:48:33.631603Z"
    },
    "hidden": true
   },
   "outputs": [],
   "source": [
    "activity_df = pd.read_csv(path + 'activity_info.tsv', sep = '\\t')\n",
    "\n",
    "response_df = pd.read_csv(path + 'response_data.tsv', sep = '\\t')\n",
    "response_df['content_item_name'] = response_df['content_item_name'].str.lower()\n",
    "\n",
    "content_df = pd.read_csv(path + 'content_info.tsv', sep = '\\t')\n",
    "content_df['content_item_name'] = content_df['content_item_name'].str.lower()"
   ]
  },
  {
   "cell_type": "code",
   "execution_count": 4,
   "id": "dbd5673a",
   "metadata": {
    "ExecuteTime": {
     "end_time": "2021-09-15T15:45:51.259995Z",
     "start_time": "2021-09-15T15:45:48.621735Z"
    },
    "hidden": true
   },
   "outputs": [],
   "source": [
    "#reading items file\n",
    "comlex_items = pd.read_excel('C:\\\\Users\\\\VImmadisetty\\\\Downloads\\\\DATA\\\\DRCR\\\\MED\\\\COMLEX and Step 2 Qbank Item lists.xlsx', sheet_name= 'COMLEX Level 1')\n",
    "comlex_items.rename(columns = {'Parent QID': 'content_item_name'}, inplace=True)\n",
    "comlex_items['content_item_name'] = comlex_items['content_item_name'].str.lower()\n"
   ]
  },
  {
   "cell_type": "code",
   "execution_count": 5,
   "id": "711d5b9b",
   "metadata": {
    "ExecuteTime": {
     "end_time": "2021-09-15T15:45:51.846550Z",
     "start_time": "2021-09-15T15:45:51.807568Z"
    },
    "hidden": true
   },
   "outputs": [
    {
     "name": "stdout",
     "output_type": "stream",
     "text": [
      "Common items out of \u001b[1m1134\u001b[0m for COMLEX : \u001b[1m884\u001b[0m\n"
     ]
    }
   ],
   "source": [
    "#common items summary\n",
    "common_items_comlex = pd.merge(content_df[['content_item_name', 'content_item_id']], comlex_items['content_item_name'], left_on=['content_item_name'], right_on=['content_item_name']).shape[0]\n",
    "\n",
    "print('Common items out of', color.BOLD + str(comlex_items['content_item_name'].nunique()) + color.END , 'for COMLEX :', color.BOLD + str(common_items_comlex) + color.END)\n",
    "\n"
   ]
  },
  {
   "cell_type": "code",
   "execution_count": null,
   "id": "3b907a02",
   "metadata": {
    "hidden": true
   },
   "outputs": [],
   "source": [
    "response_df = pd.merge(response_df, comlex_items['content_item_name'], on=['content_item_name'])\n",
    "activity_df = pd.merge(activity_df, response_df['activity_id'].drop_duplicates(), on = ['activity_id'])\n",
    "content_df = pd.merge(content_df, comlex_items['content_item_name'], on=['content_item_name'])\n"
   ]
  },
  {
   "cell_type": "code",
   "execution_count": null,
   "id": "f12eb4e8",
   "metadata": {
    "hidden": true
   },
   "outputs": [],
   "source": [
    "print('Shape of activity_df :', activity_df.shape)\n",
    "print('Total Students : ', activity_df['student_id'].nunique())\n",
    "print('Total Activities : ', activity_df['activity_id'].nunique())\n",
    "print('Total Enrollments : ', activity_df['enrollment_id'].nunique())\n",
    "print('Template Id : ', activity_df['template_id'].unique())\n",
    "\n",
    "print('-'*50)\n",
    "\n",
    "print('Shape of response_df :', response_df.shape)\n",
    "print('Total Students : ', response_df['student_id'].nunique())\n",
    "print('Total Activities : ', response_df['activity_id'].nunique())\n",
    "print('Total Content Items : ', response_df['content_item_id'].nunique())\n",
    "\n",
    "print('-'*50)\n",
    "\n",
    "print('Shape of content_df :', content_df.shape)\n",
    "print('Total Content Items : ', content_df['content_item_id'].nunique())\n",
    "print('Is Correct_answer column available? ', 'correct_answer' in content_df.columns)\n",
    "print('Data available in correct answer columns :', content_df['correct_answer'].nunique())"
   ]
  },
  {
   "cell_type": "markdown",
   "id": "5f894438",
   "metadata": {
    "heading_collapsed": true,
    "hidden": true
   },
   "source": [
    "## USMLE"
   ]
  },
  {
   "cell_type": "code",
   "execution_count": 32,
   "id": "b1e67ab6",
   "metadata": {
    "ExecuteTime": {
     "end_time": "2021-09-15T15:51:17.297516Z",
     "start_time": "2021-09-15T15:51:17.280070Z"
    },
    "hidden": true
   },
   "outputs": [],
   "source": [
    "program = 'USMLE'\n",
    "analysis_name = program\n",
    "results_path = 'C:\\\\Users\\\\VImmadisetty\\\\Downloads\\\\DATA\\\\DRCR\\\\MED\\\\Results\\\\'+program+'\\\\'\n",
    "path = 'C:\\\\Users\\\\VImmadisetty\\\\Downloads\\\\DATA\\\\DRCR\\\\MED\\\\Data\\\\'+program+'\\\\'"
   ]
  },
  {
   "cell_type": "code",
   "execution_count": 33,
   "id": "89a93300",
   "metadata": {
    "ExecuteTime": {
     "end_time": "2021-09-15T15:51:47.173727Z",
     "start_time": "2021-09-15T15:51:20.094008Z"
    },
    "hidden": true
   },
   "outputs": [],
   "source": [
    "activity_df = pd.read_csv(path + 'activity_info.tsv', sep = '\\t')\n",
    "\n",
    "response_df = pd.read_csv(path + 'response_data.tsv', sep = '\\t')\n",
    "response_df['content_item_name'] = response_df['content_item_name'].str.lower()\n",
    "\n",
    "content_df = pd.read_csv(path + 'content_info.tsv', sep = '\\t')\n",
    "content_df['content_item_name'] = content_df['content_item_name'].str.lower()"
   ]
  },
  {
   "cell_type": "code",
   "execution_count": 34,
   "id": "2295080d",
   "metadata": {
    "ExecuteTime": {
     "end_time": "2021-09-15T15:51:51.862149Z",
     "start_time": "2021-09-15T15:51:49.976158Z"
    },
    "hidden": true
   },
   "outputs": [],
   "source": [
    "usmle_items = pd.read_excel('C:\\\\Users\\\\VImmadisetty\\\\Downloads\\\\DATA\\\\DRCR\\\\MED\\\\COMLEX and Step 2 Qbank Item lists.xlsx', sheet_name= 'USMLE Step 2 items')\n",
    "usmle_items.rename(columns = {'QID': 'content_item_name'}, inplace=True)\n",
    "usmle_items['content_item_name'] = usmle_items['content_item_name'].str.lower()"
   ]
  },
  {
   "cell_type": "code",
   "execution_count": 35,
   "id": "d208d31b",
   "metadata": {
    "ExecuteTime": {
     "end_time": "2021-09-15T15:51:54.599340Z",
     "start_time": "2021-09-15T15:51:54.567297Z"
    },
    "hidden": true
   },
   "outputs": [
    {
     "name": "stdout",
     "output_type": "stream",
     "text": [
      "Common items out of \u001b[1m1135\u001b[0m for USMLE : \u001b[1m444\u001b[0m\n"
     ]
    }
   ],
   "source": [
    "#common items summary\n",
    "common_items_usmle = pd.merge(content_df[['content_item_name', 'content_item_id']], usmle_items['content_item_name'], left_on=['content_item_name'], right_on=['content_item_name']).shape[0]\n",
    "\n",
    "print('Common items out of', color.BOLD + str(usmle_items['content_item_name'].nunique()) + color.END , 'for USMLE :', color.BOLD + str(common_items_usmle) + color.END)"
   ]
  },
  {
   "cell_type": "code",
   "execution_count": 36,
   "id": "5f0bc77b",
   "metadata": {
    "ExecuteTime": {
     "end_time": "2021-09-15T15:52:45.435574Z",
     "start_time": "2021-09-15T15:52:43.736355Z"
    },
    "hidden": true
   },
   "outputs": [],
   "source": [
    "response_df = pd.merge(response_df, usmle_items['content_item_name'], on=['content_item_name'])\n",
    "activity_df = pd.merge(activity_df, response_df['activity_id'].drop_duplicates(), on = ['activity_id'])\n",
    "content_df = pd.merge(content_df, usmle_items['content_item_name'], on=['content_item_name'])"
   ]
  },
  {
   "cell_type": "code",
   "execution_count": 40,
   "id": "96b29051",
   "metadata": {
    "ExecuteTime": {
     "end_time": "2021-09-15T15:53:02.723343Z",
     "start_time": "2021-09-15T15:53:02.693464Z"
    },
    "hidden": true
   },
   "outputs": [
    {
     "name": "stdout",
     "output_type": "stream",
     "text": [
      "Shape of activity_df : (47948, 35)\n",
      "Total Students :  3203\n",
      "Total Activities :  47948\n",
      "Total Enrollments :  3479\n",
      "Template Id :  [12879]\n",
      "--------------------------------------------------\n",
      "Shape of response_df : (263674, 20)\n",
      "Total Students :  3203\n",
      "Total Activities :  47948\n",
      "Total Content Items :  444\n",
      "--------------------------------------------------\n",
      "Shape of content_df : (444, 35)\n",
      "Total Content Items :  444\n",
      "Is Correct_answer column available?  True\n",
      "Data available in correct answer columns : 0\n"
     ]
    }
   ],
   "source": [
    "print('Shape of activity_df :', activity_df.shape)\n",
    "print('Total Students : ', activity_df['student_id'].nunique())\n",
    "print('Total Activities : ', activity_df['activity_id'].nunique())\n",
    "print('Total Enrollments : ', activity_df['enrollment_id'].nunique())\n",
    "print('Template Id : ', activity_df['template_id'].unique())\n",
    "\n",
    "print('-'*50)\n",
    "\n",
    "print('Shape of response_df :', response_df.shape)\n",
    "print('Total Students : ', response_df['student_id'].nunique())\n",
    "print('Total Activities : ', response_df['activity_id'].nunique())\n",
    "print('Total Content Items : ', response_df['content_item_id'].nunique())\n",
    "\n",
    "print('-'*50)\n",
    "\n",
    "print('Shape of content_df :', content_df.shape)\n",
    "print('Total Content Items : ', content_df['content_item_id'].nunique())\n",
    "print('Is Correct_answer column available? ', 'correct_answer' in content_df.columns)\n",
    "print('Data available in correct answer columns :', content_df['correct_answer'].nunique())"
   ]
  },
  {
   "cell_type": "markdown",
   "id": "65c31e36",
   "metadata": {
    "heading_collapsed": true
   },
   "source": [
    "# Data handling"
   ]
  },
  {
   "cell_type": "code",
   "execution_count": 41,
   "id": "9e600292",
   "metadata": {
    "ExecuteTime": {
     "end_time": "2021-09-15T15:53:06.625627Z",
     "start_time": "2021-09-15T15:53:06.601682Z"
    },
    "hidden": true
   },
   "outputs": [],
   "source": [
    "response_df.rename(columns={'history_db_id': 'historiesDb',\n",
    "                            'student_id' : 'jasperUserId',\n",
    "                            'activity_id' : 'sequenceId',\n",
    "                            'item_position': 'position',\n",
    "                            'section_title' : 'sectionTitle',\n",
    "                            'item_section_position' : 'displaySeq',\n",
    "                            'content_item_id' : 'contentItemId',\n",
    "                            'content_item_name' : 'contentItemName',\n",
    "                            'interaction_type': 'interactionType',\n",
    "                            'milliseconds_used' : 'mSecUsed',\n",
    "                            'is_scored' : 'scored',\n",
    "                            'scored_response' : 'score',\n",
    "                            'raw_response' : 'response',\n",
    "                            'field_test' : 'fieldTest',\n",
    "                           'item_status': 'responseStatus'}, inplace = True)\n",
    "#response_df['correctAnswer'] = np.nan\n",
    "response_df['sectionName'] = response_df['sectionTitle']\n",
    "\n",
    "#removing responses with null display sequence\n",
    "#print('Before removing null displaySeq : ', response_df.shape)\n",
    "\n",
    "#response_df = response_df[~response_df['displaySeq'].isnull()]\n",
    "\n",
    "#print('After removing null displaySeq : ', response_df.shape)"
   ]
  },
  {
   "cell_type": "code",
   "execution_count": 42,
   "id": "2883f75c",
   "metadata": {
    "ExecuteTime": {
     "end_time": "2021-09-15T15:53:08.699710Z",
     "start_time": "2021-09-15T15:53:07.999920Z"
    },
    "hidden": true,
    "scrolled": true
   },
   "outputs": [
    {
     "name": "stdout",
     "output_type": "stream",
     "text": [
      "Response_df size before merging with activity_df : (263674, 21)\n",
      "Response_df size before merging with activity_df: (263674, 51)\n",
      "New columns added from activity_df with activity_df: {'dateCreated', 'dateCompleted', 'omitted', 'product_name', 'templateId', 'product_code', 'sequenceStatus', 'alternate_timing', 'total_scored_items_time_elapsed', 'percentageNotPresented', 'sequenceName', 'notPresented', 'total_scored_items', 'total_items_remediated', 'total_scored_items_not_reached', 'program', 'total_scored_items_answered_correct', 'source_system', 'correct', 'percentageCorrect', 'activity_type', 'total_scored_items_answered', 'total_scored_items_omitted', 'percentageIncorrect', 'activity_title', 'unanswered', 'percentageOmitted', 'total_items_remediation_time', 'tutorMode', 'percentageUnanswered', 'incorrect', 'kbsEnrollmentId'}\n"
     ]
    }
   ],
   "source": [
    "activity_df.rename(columns={'history_db_id': 'historiesDb',\n",
    "                            'student_id' : 'jasperUserId',\n",
    "                            'enrollment_id' : 'kbsEnrollmentId',\n",
    "                            'activity_id' : 'sequenceId',\n",
    "                            'template_id' : 'templateId',\n",
    "                            'template_name' : 'sequenceName',\n",
    "                            'sequence_title' : 'sequenceTitle',\n",
    "                            'timestamp_created' : 'dateCreated',\n",
    "                            'timestamp_completed' : 'dateCompleted',\n",
    "                           'tutor_mode' : 'tutorMode',\n",
    "                           'status':'sequenceStatus'}, inplace = True)\n",
    "\n",
    "activity_df['dateCreated'] = pd.to_datetime(activity_df['dateCreated'], errors = 'coerce')\n",
    "activity_df['dateCompleted'] = pd.to_datetime(activity_df['dateCompleted'], errors = 'coerce')\n",
    "\n",
    "\n",
    "#merging responses and activity data and changing the names of statuses\n",
    "print('Response_df size before merging with activity_df :', response_df.shape)\n",
    "initi_cols = response_df.columns\n",
    "response_df = pd.merge(response_df.drop(columns=['source_system']), activity_df.drop(columns=['source_system']), on = ['jasperUserId', 'sequenceId', 'historiesDb'], how = 'inner')\n",
    "\n",
    "print('Response_df size before merging with activity_df:', response_df.shape)\n",
    "print('New columns added from activity_df with activity_df:', set(response_df)^set(initi_cols))"
   ]
  },
  {
   "cell_type": "code",
   "execution_count": 43,
   "id": "14bff8d7",
   "metadata": {
    "ExecuteTime": {
     "end_time": "2021-09-15T15:53:10.216789Z",
     "start_time": "2021-09-15T15:53:10.032114Z"
    },
    "hidden": true,
    "scrolled": true
   },
   "outputs": [],
   "source": [
    "#changing kbs_enrollment_id to string as in cleaning function to remove 0 kbseids we are comparing as string\n",
    "response_df['kbsEnrollmentId'].fillna(value = 0, inplace = True)\n",
    "response_df['kbsEnrollmentId'] = response_df['kbsEnrollmentId'].astype('str')"
   ]
  },
  {
   "cell_type": "code",
   "execution_count": 44,
   "id": "951c9428",
   "metadata": {
    "ExecuteTime": {
     "end_time": "2021-09-15T15:53:11.944465Z",
     "start_time": "2021-09-15T15:53:11.513457Z"
    },
    "hidden": true
   },
   "outputs": [
    {
     "name": "stdout",
     "output_type": "stream",
     "text": [
      "shape of response_df before merging with content_df : (263674, 51)\n",
      "shape of response_df after merging with content_df : (263674, 84)\n"
     ]
    }
   ],
   "source": [
    "content_df.rename(columns = {'content_item_id' : 'contentItemId',\n",
    "                            'content_item_name' : 'contentItemName',\n",
    "                            'interaction_type_name' : 'interactiontypename',\n",
    "                            'count_choices' : 'countchoices',\n",
    "                            'parent_item_id' : 'parentid',\n",
    "                            'parent_item_name' : 'parentname',\n",
    "                            'correct_answer':'correctAnswer'}, inplace = True)\n",
    "\n",
    "#category name vary based on problem, so check the data\n",
    "#mergning with response_df\n",
    "print('shape of response_df before merging with content_df :', response_df.shape)\n",
    "\n",
    "response_df = pd.merge(response_df, content_df,\n",
    "                       how = 'inner',\n",
    "                      on = ['contentItemId', 'contentItemName'])\n",
    "\n",
    "print('shape of response_df after merging with content_df :', response_df.shape)"
   ]
  },
  {
   "cell_type": "code",
   "execution_count": 45,
   "id": "7c7b36d7",
   "metadata": {
    "ExecuteTime": {
     "end_time": "2021-09-15T15:53:13.842747Z",
     "start_time": "2021-09-15T15:53:13.298967Z"
    },
    "hidden": true,
    "scrolled": true
   },
   "outputs": [
    {
     "data": {
      "text/html": [
       "<div>\n",
       "<style scoped>\n",
       "    .dataframe tbody tr th:only-of-type {\n",
       "        vertical-align: middle;\n",
       "    }\n",
       "\n",
       "    .dataframe tbody tr th {\n",
       "        vertical-align: top;\n",
       "    }\n",
       "\n",
       "    .dataframe thead th {\n",
       "        text-align: right;\n",
       "    }\n",
       "</style>\n",
       "<table border=\"1\" class=\"dataframe\">\n",
       "  <thead>\n",
       "    <tr style=\"text-align: right;\">\n",
       "      <th></th>\n",
       "      <th></th>\n",
       "      <th>max_resp</th>\n",
       "      <th>min_resp</th>\n",
       "      <th>median_resp</th>\n",
       "      <th>num_users</th>\n",
       "    </tr>\n",
       "    <tr>\n",
       "      <th>templateId</th>\n",
       "      <th>sequenceName</th>\n",
       "      <th></th>\n",
       "      <th></th>\n",
       "      <th></th>\n",
       "      <th></th>\n",
       "    </tr>\n",
       "  </thead>\n",
       "  <tbody>\n",
       "    <tr>\n",
       "      <th>12879</th>\n",
       "      <th>atomFredQbankShell</th>\n",
       "      <td>92</td>\n",
       "      <td>1</td>\n",
       "      <td>5.0</td>\n",
       "      <td>44598</td>\n",
       "    </tr>\n",
       "  </tbody>\n",
       "</table>\n",
       "</div>"
      ],
      "text/plain": [
       "                               max_resp  min_resp  median_resp  num_users\n",
       "templateId sequenceName                                                  \n",
       "12879      atomFredQbankShell        92         1          5.0      44598"
      ]
     },
     "execution_count": 45,
     "metadata": {},
     "output_type": "execute_result"
    }
   ],
   "source": [
    "#responses summary\n",
    "response_summary = response_df[response_df['sequenceStatus'].str.lower() == 'completed'].groupby(['templateId', 'sequenceName', 'sectionName', 'jasperUserId'])[['sequenceId']].agg('count').reset_index()\n",
    "response_summary.rename(columns = {'sequenceId' : 'num_responses'}, inplace = True)\n",
    "\n",
    "response_summary = response_summary.groupby(['templateId', 'sequenceName'])[['num_responses']].agg(['max', 'min', 'median', 'count'])\n",
    "response_summary.columns = ['max_resp', 'min_resp', 'median_resp', 'num_users']\n",
    "\n",
    "response_summary"
   ]
  },
  {
   "cell_type": "code",
   "execution_count": 46,
   "id": "fa0e3128",
   "metadata": {
    "ExecuteTime": {
     "end_time": "2021-09-15T15:53:15.197700Z",
     "start_time": "2021-09-15T15:53:15.182737Z"
    },
    "hidden": true
   },
   "outputs": [
    {
     "data": {
      "text/html": [
       "<div>\n",
       "<style scoped>\n",
       "    .dataframe tbody tr th:only-of-type {\n",
       "        vertical-align: middle;\n",
       "    }\n",
       "\n",
       "    .dataframe tbody tr th {\n",
       "        vertical-align: top;\n",
       "    }\n",
       "\n",
       "    .dataframe thead th {\n",
       "        text-align: right;\n",
       "    }\n",
       "</style>\n",
       "<table border=\"1\" class=\"dataframe\">\n",
       "  <thead>\n",
       "    <tr style=\"text-align: right;\">\n",
       "      <th></th>\n",
       "      <th>templateId</th>\n",
       "      <th>jasperSequenceName</th>\n",
       "      <th>sectionName</th>\n",
       "      <th>numQues</th>\n",
       "      <th>responseThreshold</th>\n",
       "      <th>minutesAllowed</th>\n",
       "    </tr>\n",
       "  </thead>\n",
       "  <tbody>\n",
       "    <tr>\n",
       "      <th>0</th>\n",
       "      <td>6039</td>\n",
       "      <td>comlexQbank</td>\n",
       "      <td>NaN</td>\n",
       "      <td>NaN</td>\n",
       "      <td>NaN</td>\n",
       "      <td>NaN</td>\n",
       "    </tr>\n",
       "    <tr>\n",
       "      <th>1</th>\n",
       "      <td>12879</td>\n",
       "      <td>atomFredQbankShell</td>\n",
       "      <td>NaN</td>\n",
       "      <td>NaN</td>\n",
       "      <td>NaN</td>\n",
       "      <td>NaN</td>\n",
       "    </tr>\n",
       "  </tbody>\n",
       "</table>\n",
       "</div>"
      ],
      "text/plain": [
       "   templateId  jasperSequenceName  sectionName  numQues  responseThreshold  \\\n",
       "0        6039         comlexQbank          NaN      NaN                NaN   \n",
       "1       12879  atomFredQbankShell          NaN      NaN                NaN   \n",
       "\n",
       "   minutesAllowed  \n",
       "0             NaN  \n",
       "1             NaN  "
      ]
     },
     "execution_count": 46,
     "metadata": {},
     "output_type": "execute_result"
    }
   ],
   "source": [
    "test_map = pd.DataFrame()\n",
    "test_map['templateId'] = [6039, 12879]\n",
    "test_map['jasperSequenceName'] = ['comlexQbank',\n",
    "                                 'atomFredQbankShell']\n",
    "\n",
    "test_map['sectionName'] = [np.nan, np.nan]\n",
    "\n",
    "test_map['numQues'] = [np.nan, np.nan]\n",
    "test_map['responseThreshold'] = [np.nan, np.nan]\n",
    "test_map['minutesAllowed'] = [np.nan, np.nan]\n",
    "\n",
    "test_map"
   ]
  },
  {
   "cell_type": "markdown",
   "id": "0820ab27",
   "metadata": {
    "heading_collapsed": true
   },
   "source": [
    "# Connecting to Db for Repeats enrolls"
   ]
  },
  {
   "cell_type": "code",
   "execution_count": 17,
   "id": "1d4c96f0",
   "metadata": {
    "ExecuteTime": {
     "end_time": "2021-09-15T15:47:18.148691Z",
     "start_time": "2021-09-15T15:46:29.826894Z"
    },
    "hidden": true
   },
   "outputs": [
    {
     "name": "stdout",
     "output_type": "stream",
     "text": [
      "Enter db username : ········\n",
      "Enter db password : ········\n",
      "Enter database : redshiftapps\n"
     ]
    }
   ],
   "source": [
    "engine = db_con()\n",
    "\n",
    "query_frt = \"\"\"select\n",
    "    distinct ph.id kbsenrollmentid\n",
    "from\n",
    "    kbs_billing.purchase_history ph\n",
    "    join bi_reporting.vw_product_detail prd on ph.product_id = prd.product_id\n",
    "where\n",
    "    lower(prd.product_subtype) in ('free trial');\n",
    "    \"\"\"\n",
    "\n",
    "try:\n",
    "    frt_enrols\n",
    "except:\n",
    "    frt_enrols = pd.read_sql(sql = query_frt, con = engine)\n",
    "\n",
    "query_olc = \"\"\"select\n",
    "    distinct ph.id kbsenrollmentid\n",
    "from\n",
    "    kbs_billing.purchase_history ph\n",
    "    join bi_reporting.vw_product_detail prd on ph.product_id = prd.product_id\n",
    "where\n",
    "    lower(prd.product_subtype) in ('online companion')\n",
    "    ;\"\"\"\n",
    "\n",
    "try:\n",
    "    olc_enrols\n",
    "except:\n",
    "    olc_enrols = pd.read_sql(sql = query_olc, con = engine)\n",
    "\n",
    "query_hsg_repeat = \"\"\"select\n",
    "    distinct ph.id kbsenrollmentid\n",
    "from\n",
    "    kbs_billing.purchase_history ph\n",
    "    join bi_reporting.vw_product_detail prd on ph.product_id = prd.product_id\n",
    "where\n",
    "    ph.initial_delta_k_txn_code in ('404', '405', '406');\n",
    "    --and ph.created_on >= '2020-01-01';\n",
    "\"\"\"\n",
    "\n",
    "try:\n",
    "    repeaters\n",
    "except:\n",
    "    repeaters = pd.read_sql(sql = query_hsg_repeat, con = engine)\n",
    "    repeaters['kbsenrollmentid'] = repeaters['kbsenrollmentid'].astype('str')"
   ]
  },
  {
   "cell_type": "markdown",
   "id": "f3d602b7",
   "metadata": {
    "heading_collapsed": true
   },
   "source": [
    "# Cleaning the data"
   ]
  },
  {
   "cell_type": "code",
   "execution_count": 47,
   "id": "8017d290",
   "metadata": {
    "ExecuteTime": {
     "end_time": "2021-09-15T15:53:16.633348Z",
     "start_time": "2021-09-15T15:53:16.525376Z"
    },
    "hidden": true
   },
   "outputs": [
    {
     "name": "stdout",
     "output_type": "stream",
     "text": [
      "\u001b[1mNo duplicate correct answer\u001b[0m\n"
     ]
    }
   ],
   "source": [
    "#If we know the correct answers for all the items in response_df and correct answer column in response_df is not null\n",
    "#then we can use no_correctAnswer = False\n",
    "#and by default we work on contentItemId to get multiple correct answers\n",
    "#we get correct answers df here, we need to filter items that are having multiple versions of items\n",
    "\n",
    "cor_ans, dup_cor_ans = get_item_cor_ans(response_df, no_correctAnswer = True)"
   ]
  },
  {
   "cell_type": "markdown",
   "id": "d6a2a4c5",
   "metadata": {
    "hidden": true
   },
   "source": [
    "## Running cleaning function"
   ]
  },
  {
   "cell_type": "code",
   "execution_count": 48,
   "id": "5cd28e20",
   "metadata": {
    "ExecuteTime": {
     "end_time": "2021-09-15T15:53:18.050027Z",
     "start_time": "2021-09-15T15:53:18.035060Z"
    },
    "hidden": true
   },
   "outputs": [],
   "source": [
    "data_pool = {'CI_old_version_dates' : pd.DataFrame(),\n",
    "'CI_old_version_list' : pd.DataFrame(),\n",
    "'CI_old_keys' : pd.DataFrame(),\n",
    "'frt_enrols' : frt_enrols,\n",
    "'olc_enrols' : olc_enrols,\n",
    "'repeaters' : repeaters,\n",
    "'section_map' : pd.DataFrame(),\n",
    "'test_map' : test_map,\n",
    "'seqHist_to_exclude' : pd.DataFrame(),\n",
    "'cidf' : pd.DataFrame(),\n",
    "'field_test_items' : pd.DataFrame(),\n",
    "'ci_cols_to_include' : pd.DataFrame(),\n",
    "'interaction_type_list' : pd.DataFrame()}\n",
    "\n",
    "#field_test_items should have column name'contentItemName' to match with response_df"
   ]
  },
  {
   "cell_type": "code",
   "execution_count": 49,
   "id": "4ddd367f",
   "metadata": {
    "ExecuteTime": {
     "end_time": "2021-09-15T15:53:34.826539Z",
     "start_time": "2021-09-15T15:53:19.498653Z"
    },
    "hidden": true,
    "scrolled": false
   },
   "outputs": [
    {
     "name": "stdout",
     "output_type": "stream",
     "text": [
      "Starting clean item data function at 2021-09-15 21:23:19\n",
      "Total sequences at start:  47948\n",
      "Total users at start:  3203\n",
      "Unique items at start:  444\n",
      "Total responses at start:  263674\n",
      "\n",
      "Working on Disqualifiers :\n",
      "==============================\n",
      "User Removal\n",
      "--------------------\n",
      "Sequences with deleted names are removed:  1791\n",
      "Users removed  50\n",
      "Unique items removed  0\n",
      "Responses removed  12717\n",
      "\n",
      "Sequences with dupe content items within the same exam, removed: NONE\n",
      "\n",
      "Sequences with no KBS EID removed: NONE\n",
      "\n",
      "Sequence Removal\n",
      "--------------------\n",
      "Sequences with deleted names are removed: NONE\n",
      "\n",
      "Sequences with bad records (response = 0 with score = 1), removed: NONE\n",
      "\n",
      "Sequences with bad timing (mSecUsed < 0), removed:  6\n",
      "Users removed  0\n",
      "Unique items removed  0\n",
      "Responses removed  49\n",
      "\n",
      "Here are the new columns after joining all the test and section maps\n",
      "{'test_num_ques', 'test_minutes_allowed', 'test_response_threshold'}\n",
      "\n",
      "Sequences with too many questions in a section, removed: NONE\n",
      "\n",
      "Item Removal\n",
      "--------------------\n",
      "Total item responses:  250908 \n",
      "\n",
      "Working on Cleaning Rules :\n",
      "==============================\n",
      "User Removal\n",
      "--------------------\n",
      "Sequences with enrollments in \"Free Trial\" product are removed: NONE\n",
      "\n",
      "Sequences with enrollments in \"Online Companion\" product are removed: NONE\n",
      "\n",
      "Sequences with repeated enrollments are removed:  1\n",
      "Users removed  1\n",
      "Unique items removed  0\n",
      "Responses removed  7\n",
      "\n",
      "Sequence Removal\n",
      "--------------------\n",
      "Tutor mode sequences removed: NONE\n",
      "\n",
      "make code for this to remove ADA enrollemnts\n",
      "\n",
      "Untimed sequences removed: NONE\n",
      "\n",
      "Non Complete sequences removed:  1501\n",
      "Users removed  148\n",
      "Unique items removed  0\n",
      "Responses removed  9666\n",
      "\n",
      "Sequences with items fewer than __% of items attempted in a sequence, removed :NONE\n",
      "\n",
      "Sequences with items that have display sequence is null, removed :NONE\n",
      "\n",
      "Response / Score Re-coding\n",
      "--------------------\n",
      "Remove repeat item responses, instead of recoding as omitted =  False\n",
      "Original number of responses omitted 22030\n",
      "Original number of seq w items omitted 4098\n",
      "Original number of users w items omitted 1170 \n",
      "\n",
      "Number of sequences removed during item exclusions: NONE\n",
      "\n",
      "Repeated items marked as omitted:  19376\n",
      "Current number of responses omitted:  41406\n",
      "Current number of seq w items omitted:  10057\n",
      "Current number of users w items omitted:  1419\n",
      "Affected sequences:  5959\n",
      "Affected users:  249 \n",
      "\n",
      "Sequences with 2nd and later instances of a repeated item coded as omitted : NONE\n",
      "\n",
      "Item response time under threshold of  5000  mSec or over  600000  mSec, marked as omitted:  24382\n",
      "Current number of responses omitted:  65788\n",
      "Current number of seq w items omitted:  14240\n",
      "Current number of users w items omitted:  1746\n",
      "Affected sequences:  4183\n",
      "Affected users:  327 \n",
      "\n",
      "Sequences with Items with time \"under\" or \"over\" given threshold of seconds coded as omitted : NONE\n",
      "\n",
      "Remaining number of responses in final output:  241235\n",
      "Remaining number of sequences in final output:  44649\n",
      "Remaining number of users in final output:  3004\n",
      "Remaining number of unique items in final output:  444\n",
      "Cleaning function time completed: 2021-09-15 21:23:34\n",
      "\n"
     ]
    }
   ],
   "source": [
    "result, cleaning_info, rejects_df = clean_item_data(data_path = path,\n",
    "                         results_path = results_path,\n",
    "                        analysis_name = analysis_name,\n",
    "                         resp = response_df,\n",
    "                         remove_users_deleted_sequences = True,\n",
    "                         remove_dup_CIs = True,\n",
    "                         remove_no_kbsEID = True,\n",
    "                         remove_deleted_sequences = True,\n",
    "                         remove_impo_response_scored = True,\n",
    "                         remove_impo_timing_seq = True,\n",
    "                         remove_seq_w_tmq = True,\n",
    "                         remove_staged_responses = False,\n",
    "                         remove_FT_items = False,\n",
    "                        data_pool = data_pool,\n",
    "                         CI_remove_before_after = 'before', #applicable for old version dates\n",
    "                         repeat_treatment = 'omit', #default omit\n",
    "                         mSec_min_threshold = 5000, #there's y/n condition for timing if none provided\n",
    "                         mSec_max_threshold = 600000, #so if condition is not needed.\n",
    "                         sec_min_threshold = None,\n",
    "                         sec_max_threshold = None,\n",
    "                         remove_frt_users = True,\n",
    "                         remove_olc_users = True,\n",
    "                         remove_repeat_enrolls = True,\n",
    "                         remove_tutor = True,\n",
    "                         remove_ada_seq = True,\n",
    "                         remove_untimed_seq = True,\n",
    "                         remove_incomplete_seq = True,\n",
    "                         seq_item_minutes_threshold = None, #input in terms of minutes here\n",
    "                         seq_section_minutes_threshold = None, #input in terms of minutes here\n",
    "                         seq_total_minutes_threshold = None, #input in terms of minutes here\n",
    "                         qbank = False, #if qbank==false and section_map is not empty then sec_num_attempted is validated against given min_items_per_seq from secton_map\n",
    "                         min_itmes_per_seq = None, #if qbank==true and section_map provided, sequence_num_attempted is validated against given min_items_per_seq\n",
    "                         section_calc = True, #if section map provided but min_item_per_seq column not present in it & qbank == false then this gets activated for validating sec_perc_attempted vs section_resp_threshold(comes from section_map)\n",
    "                         #test_map = test_map, #if section_map is empty this gets activated, and qbank==false then test_resp_threshold comes from test_map\n",
    "                         #seq_item_resp_threshold = .75,\n",
    "                         remove_unscored = False,\n",
    "                         #seqHist_to_exclude = pd.DataFrame(), #should have column sequenceId in it\n",
    "                         precombined_files = True, #used to add columns from cidf to response_df\n",
    "                         #cidf = pd.DataFrame(), #pass cidf\n",
    "                         #interaction_type_list = [], #pass interactionTypeIds in this list\n",
    "                         #ci_cols_to_include = [], #pass columns names of cidf to include in response_df (ciname, ciid by default added if precombined files is True)\n",
    "                         remove_repeat_test_administrations = False,\n",
    "                        remove_seq_wo_dispseq = True)\n",
    "    "
   ]
  },
  {
   "cell_type": "markdown",
   "id": "82294ab0",
   "metadata": {
    "heading_collapsed": true,
    "hidden": true
   },
   "source": [
    "## Exporting cleaning info & cleaned response_data"
   ]
  },
  {
   "cell_type": "code",
   "execution_count": 50,
   "id": "af05f36e",
   "metadata": {
    "ExecuteTime": {
     "end_time": "2021-09-15T15:53:46.072930Z",
     "start_time": "2021-09-15T15:53:36.461356Z"
    },
    "hidden": true,
    "scrolled": true
   },
   "outputs": [],
   "source": [
    "#Exporting cleaned response_data\n",
    "result = result.sort_values(by=['studentId', 'activityId', 'displaySeq'], ignore_index= True)\n",
    "result.to_csv(results_path+analysis_name+'_responseData.csv', index = False)\n",
    "\n",
    "#Exporting cleaning info\n",
    "cleaning_info.to_csv(results_path+analysis_name+'_cleaningInfo.csv')\n",
    "\n",
    "#Exporting rejects info\n",
    "rejects_df.sort_values(by=['studentId', 'templateId'], ignore_index = True).to_csv(results_path+analysis_name+'_rejects_info.csv', index = False)"
   ]
  },
  {
   "cell_type": "markdown",
   "id": "cddc2f8e",
   "metadata": {
    "heading_collapsed": true
   },
   "source": [
    "# Creating User Level Matrices"
   ]
  },
  {
   "cell_type": "code",
   "execution_count": 51,
   "id": "039ffd9b",
   "metadata": {
    "ExecuteTime": {
     "end_time": "2021-09-15T15:53:52.015728Z",
     "start_time": "2021-09-15T15:53:47.959182Z"
    },
    "hidden": true
   },
   "outputs": [
    {
     "name": "stdout",
     "output_type": "stream",
     "text": [
      "Finished creating matrix for Item_Scores\n",
      "Finished creating matrix for Responses\n",
      "Finished creating matrix for Milliseconds_per_Item\n"
     ]
    }
   ],
   "source": [
    "#Reading cleaned data\n",
    "all_resp = result.copy()\n",
    "\n",
    "all_resp = all_resp.sort_values(by=['activityName', 'displaySeq'])\n",
    "\n",
    "#col_name:filename\n",
    "vars_for_matrix =  {'score':'Item_Scores',\n",
    "                   'response':'Responses',\n",
    "                   'mSecUsed':'Milliseconds_per_Item'}\n",
    "\n",
    "#making matrices\n",
    "big_matrix = make_user_level_matrices(all_resp,\n",
    "                               vars_for_matrices = vars_for_matrix,\n",
    "                               destination_file_path = results_path,\n",
    "                               destination_file_name_prefix = '_User_level_',\n",
    "                                analysis_name = analysis_name,\n",
    "                                omit_code = '.',\n",
    "                                not_seen_code = '-99',\n",
    "                                use_display_order = True,\n",
    "                               qbank = True)"
   ]
  },
  {
   "cell_type": "markdown",
   "id": "ab009ede",
   "metadata": {
    "heading_collapsed": true
   },
   "source": [
    "# Metadata"
   ]
  },
  {
   "cell_type": "markdown",
   "id": "bf15803b",
   "metadata": {
    "hidden": true
   },
   "source": [
    "## Sequence Level Information"
   ]
  },
  {
   "cell_type": "code",
   "execution_count": 53,
   "id": "9f0be916",
   "metadata": {
    "ExecuteTime": {
     "end_time": "2021-09-15T15:53:56.619580Z",
     "start_time": "2021-09-15T15:53:56.027498Z"
    },
    "hidden": true
   },
   "outputs": [],
   "source": [
    "activity_level_info = make_activity_level_info(df = result,\n",
    "                                              results_path = results_path,\n",
    "                                              analysis_name = analysis_name)"
   ]
  },
  {
   "cell_type": "markdown",
   "id": "9c9abd5e",
   "metadata": {
    "hidden": true
   },
   "source": [
    "## User Level Information"
   ]
  },
  {
   "cell_type": "code",
   "execution_count": 54,
   "id": "040216f1",
   "metadata": {
    "ExecuteTime": {
     "end_time": "2021-09-15T15:53:58.736940Z",
     "start_time": "2021-09-15T15:53:58.565955Z"
    },
    "hidden": true
   },
   "outputs": [],
   "source": [
    "user_info = make_user_level_info(df = result,\n",
    "                                results_path = results_path,\n",
    "                                analysis_name = analysis_name,\n",
    "                                test_map = test_map)"
   ]
  },
  {
   "cell_type": "markdown",
   "id": "28c29bd3",
   "metadata": {
    "hidden": true
   },
   "source": [
    "## Item Level Information"
   ]
  },
  {
   "cell_type": "code",
   "execution_count": 55,
   "id": "dab49343",
   "metadata": {
    "ExecuteTime": {
     "end_time": "2021-09-15T15:54:00.840843Z",
     "start_time": "2021-09-15T15:54:00.701342Z"
    },
    "hidden": true
   },
   "outputs": [],
   "source": [
    "item_level_info = make_item_level_info(df = result,\n",
    "                                      content_df = content_df,\n",
    "                                      results_path = results_path,\n",
    "                                      analysis_name = analysis_name,\n",
    "                                      corr_ans = cor_ans)"
   ]
  }
 ],
 "metadata": {
  "hide_input": false,
  "kernelspec": {
   "display_name": "Python 3",
   "language": "python",
   "name": "python3"
  },
  "language_info": {
   "codemirror_mode": {
    "name": "ipython",
    "version": 3
   },
   "file_extension": ".py",
   "mimetype": "text/x-python",
   "name": "python",
   "nbconvert_exporter": "python",
   "pygments_lexer": "ipython3",
   "version": "3.8.8"
  },
  "toc": {
   "base_numbering": 1,
   "nav_menu": {},
   "number_sections": true,
   "sideBar": true,
   "skip_h1_title": false,
   "title_cell": "Table of Contents",
   "title_sidebar": "Contents",
   "toc_cell": false,
   "toc_position": {},
   "toc_section_display": true,
   "toc_window_display": true
  },
  "varInspector": {
   "cols": {
    "lenName": 16,
    "lenType": 16,
    "lenVar": 40
   },
   "kernels_config": {
    "python": {
     "delete_cmd_postfix": "",
     "delete_cmd_prefix": "del ",
     "library": "var_list.py",
     "varRefreshCmd": "print(var_dic_list())"
    },
    "r": {
     "delete_cmd_postfix": ") ",
     "delete_cmd_prefix": "rm(",
     "library": "var_list.r",
     "varRefreshCmd": "cat(var_dic_list()) "
    }
   },
   "position": {
    "height": "380.4px",
    "left": "1149.2px",
    "right": "20px",
    "top": "120px",
    "width": "350px"
   },
   "types_to_exclude": [
    "module",
    "function",
    "builtin_function_or_method",
    "instance",
    "_Feature"
   ],
   "window_display": false
  }
 },
 "nbformat": 4,
 "nbformat_minor": 5
}
