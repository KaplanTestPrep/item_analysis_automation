{
 "cells": [
  {
   "cell_type": "code",
   "execution_count": 30,
   "id": "14edaffe",
   "metadata": {
    "ExecuteTime": {
     "end_time": "2021-09-22T10:18:46.803115Z",
     "start_time": "2021-09-22T10:18:46.793633Z"
    }
   },
   "outputs": [],
   "source": [
    "import numpy as np\n",
    "import pandas as pd\n",
    "import re\n",
    "import datetime\n",
    "import warnings\n",
    "import sys\n",
    "\n",
    "from miscfns.misc_fns import db_con,describe_dupe_cor_ans, get_item_cor_ans, recode_as_omitted, timing_exclusion, remove_repeat_questions, combine_CIinfo, removed_record_count, clean_item_data\n",
    "from miscfns.misc_fns import make_user_level_matrices, make_item_level_info, make_activity_level_info, make_user_level_info\n",
    "\n",
    "from miscfns.misc_fns import color, teleg_msg"
   ]
  },
  {
   "cell_type": "code",
   "execution_count": 180,
   "id": "db8ab5a6",
   "metadata": {
    "ExecuteTime": {
     "end_time": "2021-09-22T10:59:13.399856Z",
     "start_time": "2021-09-22T10:59:13.388602Z"
    }
   },
   "outputs": [],
   "source": [
    "template = 16971\n",
    "analysis_name = 'GBR_'+str(template)\n",
    "results_path = 'C:\\\\Users\\\\VImmadisetty\\\\Downloads\\\\DATA\\\\DRCR\\\\BAR\\\\Results\\\\'+str(template)+'\\\\'"
   ]
  },
  {
   "cell_type": "code",
   "execution_count": 181,
   "id": "2614b34b",
   "metadata": {
    "ExecuteTime": {
     "end_time": "2021-09-22T10:59:16.373215Z",
     "start_time": "2021-09-22T10:59:16.352309Z"
    }
   },
   "outputs": [],
   "source": [
    "path = 'C:\\\\Users\\\\VImmadisetty\\\\Downloads\\\\DATA\\\\DRCR\\\\BAR\\\\Data\\\\'"
   ]
  },
  {
   "cell_type": "code",
   "execution_count": 182,
   "id": "9f9fabcf",
   "metadata": {
    "ExecuteTime": {
     "end_time": "2021-09-22T10:59:20.411550Z",
     "start_time": "2021-09-22T10:59:19.475128Z"
    }
   },
   "outputs": [],
   "source": [
    "activity_df = pd.read_csv(path + 'activity_info_'+str(template)+'.csv')\n",
    "response_df = pd.read_csv(path + 'response_info_'+str(template)+'.csv')\n",
    "content_df = pd.read_csv(path + 'content_info_all.csv')"
   ]
  },
  {
   "cell_type": "code",
   "execution_count": 183,
   "id": "14ba758c",
   "metadata": {
    "ExecuteTime": {
     "end_time": "2021-09-22T10:59:23.201318Z",
     "start_time": "2021-09-22T10:59:23.159593Z"
    }
   },
   "outputs": [
    {
     "name": "stdout",
     "output_type": "stream",
     "text": [
      "Shape of activity_df : (1071, 23)\n",
      "Total Students :  1071\n",
      "Total Activities :  1071\n",
      "Total Enrollments :  1068\n",
      "Template Id :  [16971]\n",
      "--------------------------------------------------\n",
      "Shape of response_df : (107100, 20)\n",
      "Total Students :  1071\n",
      "Total Activities :  1071\n",
      "Total Content Items :  100\n",
      "--------------------------------------------------\n",
      "Shape of content_df : (3799, 11)\n",
      "Total Content Items :  548\n",
      "Is Correct_answer column available?  False\n"
     ]
    }
   ],
   "source": [
    "print('Shape of activity_df :', activity_df.shape)\n",
    "print('Total Students : ', activity_df['student_id'].nunique())\n",
    "print('Total Activities : ', activity_df['activity_id'].nunique())\n",
    "print('Total Enrollments : ', activity_df['kbs_enrollment_id'].nunique())\n",
    "print('Template Id : ', activity_df['template_id'].unique())\n",
    "\n",
    "print('-'*50)\n",
    "\n",
    "print('Shape of response_df :', response_df.shape)\n",
    "print('Total Students : ', response_df['student_id'].nunique())\n",
    "print('Total Activities : ', response_df['activity_id'].nunique())\n",
    "print('Total Content Items : ', response_df['content_item_id'].nunique())\n",
    "\n",
    "print('-'*50)\n",
    "\n",
    "print('Shape of content_df :', content_df.shape)\n",
    "print('Total Content Items : ', content_df['content_item_id'].nunique())\n",
    "print('Is Correct_answer column available? ', 'correct_answer' in content_df.columns)\n",
    "#print('Data available in correct answer columns :', content_df['correct_answer'].nunique())"
   ]
  },
  {
   "cell_type": "markdown",
   "id": "65c31e36",
   "metadata": {},
   "source": [
    "# Data handling"
   ]
  },
  {
   "cell_type": "code",
   "execution_count": 184,
   "id": "f0689ef9",
   "metadata": {
    "ExecuteTime": {
     "end_time": "2021-09-22T10:59:25.789173Z",
     "start_time": "2021-09-22T10:59:25.769245Z"
    }
   },
   "outputs": [],
   "source": [
    "response_df.rename(columns={'history_db_id': 'historiesDb',\n",
    "                            'student_id' : 'jasperUserId',\n",
    "                            'activity_id' : 'sequenceId',\n",
    "                            'item_position': 'position',\n",
    "                            'section_title' : 'sectionTitle',\n",
    "                            'item_section_position' : 'displaySeq',\n",
    "                            'content_item_id' : 'contentItemId',\n",
    "                            'content_item_name' : 'contentItemName',\n",
    "                            'interaction_type': 'interactionType',\n",
    "                            'milliseconds_used' : 'mSecUsed',\n",
    "                            'is_scored' : 'scored',\n",
    "                            'scored_response' : 'score',\n",
    "                            'raw_response' : 'response',\n",
    "                            'field_test' : 'fieldTest',\n",
    "                           'item_status': 'responseStatus'}, inplace = True)\n",
    "#response_df['correctAnswer'] = np.nan\n",
    "response_df['sectionName'] = response_df['sectionTitle']\n",
    "\n",
    "#removing responses with null display sequence\n",
    "#response_df = response_df[~response_df['displaySeq'].isnull()]\n"
   ]
  },
  {
   "cell_type": "code",
   "execution_count": 185,
   "id": "c0a04aa3",
   "metadata": {
    "ExecuteTime": {
     "end_time": "2021-09-22T10:59:29.093042Z",
     "start_time": "2021-09-22T10:59:28.758547Z"
    }
   },
   "outputs": [],
   "source": [
    "#encoding responses to numbers\n",
    "ans_dt = {'A': '1', 'B':'2', 'C':'3', 'D':'4'}\n",
    "response_df['min_raw_answer'] = response_df['min_raw_answer'].replace(ans_dt)\n",
    "response_df['max_raw_answer'] = response_df['max_raw_answer'].replace(ans_dt)\n",
    "\n",
    "#concatenating raw responses to get them in single column\n",
    "response_df.loc[response_df['min_raw_answer']==response_df['max_raw_answer'], 'response'] = response_df['min_raw_answer']\n",
    "response_df.loc[response_df['min_raw_answer']!=response_df['max_raw_answer'], 'response'] = response_df['min_raw_answer'] + ',' + response_df['max_raw_answer']"
   ]
  },
  {
   "cell_type": "code",
   "execution_count": 186,
   "id": "658fa671",
   "metadata": {
    "ExecuteTime": {
     "end_time": "2021-09-22T10:59:31.816284Z",
     "start_time": "2021-09-22T10:59:31.802941Z"
    },
    "scrolled": true
   },
   "outputs": [],
   "source": [
    "#renaming the column names of original data to avoid changing the code\n",
    "activity_df.rename(columns={'kbs_enrollment_id':'enrollment_id',\n",
    "                           'date_created':'timestamp_created',\n",
    "                           'date_completed':'timestamp_completed'}, inplace= True)"
   ]
  },
  {
   "cell_type": "code",
   "execution_count": 187,
   "id": "eaaea32a",
   "metadata": {
    "ExecuteTime": {
     "end_time": "2021-09-22T10:59:35.429738Z",
     "start_time": "2021-09-22T10:59:35.149443Z"
    }
   },
   "outputs": [
    {
     "name": "stdout",
     "output_type": "stream",
     "text": [
      "Response_df size before merging with activity_df : (107100, 22)\n",
      "Response_df size before merging with activity_df: (107100, 40)\n",
      "New columns added from activity_df with activity_df:\n",
      " {'course_access_id', 'activity_type', 'sequenceStatus', 'total_scored_items_omitted', 'program', 'total_scored_items_answered_correct', 'total_scored_items_time_elapsed', 'tutorMode', 'dateCompleted', 'kbsEnrollmentId', 'activity_name', 'templateId', 'total_scored_items_answered', 'total_items_time_elapsed', 'total_scored_items_not_reached', 'dateCreated', 'total_items', 'total_scored_items', 'sequenceName', 'source_system'}\n"
     ]
    }
   ],
   "source": [
    "activity_df.rename(columns={'history_db_id': 'historiesDb',\n",
    "                            'student_id' : 'jasperUserId',\n",
    "                            'enrollment_id' : 'kbsEnrollmentId',\n",
    "                            'activity_id' : 'sequenceId',\n",
    "                            'template_id' : 'templateId',\n",
    "                            'template_name' : 'sequenceName',\n",
    "                            'sequence_title' : 'sequenceTitle',\n",
    "                            'timestamp_created' : 'dateCreated',\n",
    "                            'timestamp_completed' : 'dateCompleted',\n",
    "                           'tutor_mode' : 'tutorMode',\n",
    "                           'status':'sequenceStatus'}, inplace = True)\n",
    "\n",
    "activity_df['dateCreated'] = pd.to_datetime(activity_df['dateCreated'], errors = 'coerce')\n",
    "activity_df['dateCompleted'] = pd.to_datetime(activity_df['dateCompleted'], errors = 'coerce')\n",
    "\n",
    "\n",
    "#merging responses and activity data and changing the names of statuses\n",
    "print('Response_df size before merging with activity_df :', response_df.shape)\n",
    "initi_cols = response_df.columns\n",
    "response_df = pd.merge(response_df.drop(columns=['source_system']), activity_df.drop(columns=['source_system']), on = ['jasperUserId', 'sequenceId', 'historiesDb'], how = 'inner')\n",
    "\n",
    "print('Response_df size before merging with activity_df:', response_df.shape)\n",
    "print('New columns added from activity_df with activity_df:\\n', set(response_df)^set(initi_cols))"
   ]
  },
  {
   "cell_type": "code",
   "execution_count": 188,
   "id": "a94fbec8",
   "metadata": {
    "ExecuteTime": {
     "end_time": "2021-09-22T10:59:36.822495Z",
     "start_time": "2021-09-22T10:59:36.745700Z"
    }
   },
   "outputs": [],
   "source": [
    "#changing kbs_enrollment_id to string as in cleaning function to remove 0 kbseids we are comparing as string\n",
    "response_df['kbsEnrollmentId'].fillna(value = 0, inplace = True)\n",
    "response_df['kbsEnrollmentId'] = response_df['kbsEnrollmentId'].astype('str')"
   ]
  },
  {
   "cell_type": "markdown",
   "id": "4099f238",
   "metadata": {},
   "source": [
    "* Not merging with content_df to see the implications"
   ]
  },
  {
   "cell_type": "code",
   "execution_count": 189,
   "id": "1540b5c8",
   "metadata": {
    "ExecuteTime": {
     "end_time": "2021-09-22T10:59:37.763924Z",
     "start_time": "2021-09-22T10:59:37.749936Z"
    }
   },
   "outputs": [],
   "source": [
    "#renaming the column names of original data to avoid changing the code\n",
    "content_df.rename(columns={'answer_index':'correct_answer'}, inplace= True)"
   ]
  },
  {
   "cell_type": "code",
   "execution_count": 190,
   "id": "e25351e3",
   "metadata": {
    "ExecuteTime": {
     "end_time": "2021-09-22T10:59:38.793439Z",
     "start_time": "2021-09-22T10:59:38.715484Z"
    }
   },
   "outputs": [
    {
     "name": "stdout",
     "output_type": "stream",
     "text": [
      "shape of response_df before merging with content_df : (107100, 40)\n",
      "shape of response_df after merging with content_df : (107100, 45)\n"
     ]
    }
   ],
   "source": [
    "content_df.rename(columns = {'content_item_id' : 'contentItemId',\n",
    "                            'content_item_name' : 'contentItemName',\n",
    "                            'interaction_type_name' : 'interactiontypename',\n",
    "                            'count_choices' : 'countchoices',\n",
    "                            'parent_item_id' : 'parentid',\n",
    "                            'parent_item_name' : 'parentname',\n",
    "                            'correct_answer':'correctAnswer'}, inplace = True)\n",
    "\n",
    "content_df['correctAnswer'] = content_df['correctAnswer'].replace(ans_dt)\n",
    "\n",
    "content_df = content_df[content_df['template_id']==template][['source_system', 'history_db_id', 'contentItemId', 'contentItemName',\n",
    "                                                'interactiontypename', 'countchoices', 'correctAnswer']].drop_duplicates(ignore_index=True)\n",
    "\n",
    "#category name vary based on problem, so check the data\n",
    "#mergning with response_df\n",
    "print('shape of response_df before merging with content_df :', response_df.shape)\n",
    "\n",
    "response_df = pd.merge(response_df, content_df,\n",
    "                       how = 'left',\n",
    "                      on = ['contentItemId', 'contentItemName'])\n",
    "\n",
    "print('shape of response_df after merging with content_df :', response_df.shape)"
   ]
  },
  {
   "cell_type": "code",
   "execution_count": 191,
   "id": "e42940ce",
   "metadata": {
    "ExecuteTime": {
     "end_time": "2021-09-22T10:59:39.768203Z",
     "start_time": "2021-09-22T10:59:39.737367Z"
    }
   },
   "outputs": [],
   "source": [
    "#section name col is empty, so using it for noting exam names\n",
    "response_df.loc[response_df['templateId']==44, 'sectionName'] = 'Final exam'\n",
    "response_df.loc[response_df['templateId']==46, 'sectionName'] = 'Midterm exam'\n",
    "response_df.loc[response_df['templateId']==5755, 'sectionName'] = 'Diagnostic exam'\n",
    "response_df.loc[response_df['templateId']==16968, 'sectionName'] = 'Mid-Term Practice Exam 1 - Summer20'\n",
    "response_df.loc[response_df['templateId']==16969, 'sectionName'] = 'Mid-Term Practice Exam 2 - Summer20'\n",
    "response_df.loc[response_df['templateId']==16970, 'sectionName'] = 'Simulated Practice Exam 1 - Summer20'\n",
    "response_df.loc[response_df['templateId']==16971, 'sectionName'] = 'Simulated Practice Exam 2 - Summer20'"
   ]
  },
  {
   "cell_type": "code",
   "execution_count": 192,
   "id": "da8a9ae1",
   "metadata": {
    "ExecuteTime": {
     "end_time": "2021-09-22T10:59:40.790157Z",
     "start_time": "2021-09-22T10:59:40.654520Z"
    }
   },
   "outputs": [
    {
     "data": {
      "text/html": [
       "<div>\n",
       "<style scoped>\n",
       "    .dataframe tbody tr th:only-of-type {\n",
       "        vertical-align: middle;\n",
       "    }\n",
       "\n",
       "    .dataframe tbody tr th {\n",
       "        vertical-align: top;\n",
       "    }\n",
       "\n",
       "    .dataframe thead th {\n",
       "        text-align: right;\n",
       "    }\n",
       "</style>\n",
       "<table border=\"1\" class=\"dataframe\">\n",
       "  <thead>\n",
       "    <tr style=\"text-align: right;\">\n",
       "      <th></th>\n",
       "      <th></th>\n",
       "      <th>max_resp</th>\n",
       "      <th>min_resp</th>\n",
       "      <th>median_resp</th>\n",
       "      <th>num_users</th>\n",
       "    </tr>\n",
       "    <tr>\n",
       "      <th>templateId</th>\n",
       "      <th>sequenceName</th>\n",
       "      <th></th>\n",
       "      <th></th>\n",
       "      <th></th>\n",
       "      <th></th>\n",
       "    </tr>\n",
       "  </thead>\n",
       "  <tbody>\n",
       "    <tr>\n",
       "      <th>16971</th>\n",
       "      <th>Simulated MCQ Practice Exam 2 - Summer20</th>\n",
       "      <td>100</td>\n",
       "      <td>100</td>\n",
       "      <td>100.0</td>\n",
       "      <td>1071</td>\n",
       "    </tr>\n",
       "  </tbody>\n",
       "</table>\n",
       "</div>"
      ],
      "text/plain": [
       "                                                     max_resp  min_resp  \\\n",
       "templateId sequenceName                                                   \n",
       "16971      Simulated MCQ Practice Exam 2 - Summer20       100       100   \n",
       "\n",
       "                                                     median_resp  num_users  \n",
       "templateId sequenceName                                                      \n",
       "16971      Simulated MCQ Practice Exam 2 - Summer20        100.0       1071  "
      ]
     },
     "execution_count": 192,
     "metadata": {},
     "output_type": "execute_result"
    }
   ],
   "source": [
    "#responses summary\n",
    "response_summary = response_df[response_df['sequenceStatus'].str.lower() == 'complete'].groupby(['templateId', 'sequenceName', 'sectionName', 'jasperUserId'])[['sequenceId']].agg('count').reset_index()\n",
    "response_summary.rename(columns = {'sequenceId' : 'num_responses'}, inplace = True)\n",
    "\n",
    "response_summary = response_summary.groupby(['templateId', 'sequenceName'])[['num_responses']].agg(['max', 'min', 'median', 'count'])\n",
    "response_summary.columns = ['max_resp', 'min_resp', 'median_resp', 'num_users']\n",
    "\n",
    "response_summary"
   ]
  },
  {
   "cell_type": "code",
   "execution_count": 193,
   "id": "9afcf1a9",
   "metadata": {
    "ExecuteTime": {
     "end_time": "2021-09-22T10:59:41.737779Z",
     "start_time": "2021-09-22T10:59:41.723799Z"
    },
    "scrolled": false
   },
   "outputs": [
    {
     "data": {
      "text/html": [
       "<div>\n",
       "<style scoped>\n",
       "    .dataframe tbody tr th:only-of-type {\n",
       "        vertical-align: middle;\n",
       "    }\n",
       "\n",
       "    .dataframe tbody tr th {\n",
       "        vertical-align: top;\n",
       "    }\n",
       "\n",
       "    .dataframe thead th {\n",
       "        text-align: right;\n",
       "    }\n",
       "</style>\n",
       "<table border=\"1\" class=\"dataframe\">\n",
       "  <thead>\n",
       "    <tr style=\"text-align: right;\">\n",
       "      <th></th>\n",
       "      <th>templateId</th>\n",
       "      <th>jasperSequenceName</th>\n",
       "      <th>sectionName</th>\n",
       "      <th>numQues</th>\n",
       "      <th>responseThreshold</th>\n",
       "      <th>minutesAllowed</th>\n",
       "    </tr>\n",
       "  </thead>\n",
       "  <tbody>\n",
       "    <tr>\n",
       "      <th>0</th>\n",
       "      <td>44</td>\n",
       "      <td>Simulated MCQ Practice Exam</td>\n",
       "      <td>Final exam</td>\n",
       "      <td>200</td>\n",
       "      <td>0.75</td>\n",
       "      <td>360</td>\n",
       "    </tr>\n",
       "    <tr>\n",
       "      <th>1</th>\n",
       "      <td>46</td>\n",
       "      <td>Mid-Term MCQ Practice Exam</td>\n",
       "      <td>Midterm exam</td>\n",
       "      <td>200</td>\n",
       "      <td>0.75</td>\n",
       "      <td>360</td>\n",
       "    </tr>\n",
       "    <tr>\n",
       "      <th>2</th>\n",
       "      <td>5755</td>\n",
       "      <td>MCQ Diagnostic Practice Exam</td>\n",
       "      <td>Diagnostic exam</td>\n",
       "      <td>150</td>\n",
       "      <td>0.75</td>\n",
       "      <td>270</td>\n",
       "    </tr>\n",
       "    <tr>\n",
       "      <th>3</th>\n",
       "      <td>16968</td>\n",
       "      <td>Mid-Term MCQ Practice Exam 1 - Summer20</td>\n",
       "      <td>Mid-Term Practice Exam 1 - Summer20</td>\n",
       "      <td>100</td>\n",
       "      <td>0.75</td>\n",
       "      <td>180</td>\n",
       "    </tr>\n",
       "    <tr>\n",
       "      <th>4</th>\n",
       "      <td>16969</td>\n",
       "      <td>Mid-Term MCQ Practice Exam 2 - Summer20</td>\n",
       "      <td>Mid-Term Practice Exam 2 - Summer20</td>\n",
       "      <td>100</td>\n",
       "      <td>0.75</td>\n",
       "      <td>180</td>\n",
       "    </tr>\n",
       "    <tr>\n",
       "      <th>5</th>\n",
       "      <td>16970</td>\n",
       "      <td>Simulated MCQ Practice Exam 1 - Summer20</td>\n",
       "      <td>Simulated Practice Exam 1 - Summer20</td>\n",
       "      <td>100</td>\n",
       "      <td>0.75</td>\n",
       "      <td>180</td>\n",
       "    </tr>\n",
       "    <tr>\n",
       "      <th>6</th>\n",
       "      <td>16971</td>\n",
       "      <td>Simulated MCQ Practice Exam 2 - Summer20</td>\n",
       "      <td>Simulated Practice Exam 2 - Summer20</td>\n",
       "      <td>100</td>\n",
       "      <td>0.75</td>\n",
       "      <td>180</td>\n",
       "    </tr>\n",
       "  </tbody>\n",
       "</table>\n",
       "</div>"
      ],
      "text/plain": [
       "   templateId                        jasperSequenceName  \\\n",
       "0          44               Simulated MCQ Practice Exam   \n",
       "1          46                Mid-Term MCQ Practice Exam   \n",
       "2        5755              MCQ Diagnostic Practice Exam   \n",
       "3       16968   Mid-Term MCQ Practice Exam 1 - Summer20   \n",
       "4       16969   Mid-Term MCQ Practice Exam 2 - Summer20   \n",
       "5       16970  Simulated MCQ Practice Exam 1 - Summer20   \n",
       "6       16971  Simulated MCQ Practice Exam 2 - Summer20   \n",
       "\n",
       "                            sectionName  numQues  responseThreshold  \\\n",
       "0                            Final exam      200               0.75   \n",
       "1                          Midterm exam      200               0.75   \n",
       "2                       Diagnostic exam      150               0.75   \n",
       "3   Mid-Term Practice Exam 1 - Summer20      100               0.75   \n",
       "4   Mid-Term Practice Exam 2 - Summer20      100               0.75   \n",
       "5  Simulated Practice Exam 1 - Summer20      100               0.75   \n",
       "6  Simulated Practice Exam 2 - Summer20      100               0.75   \n",
       "\n",
       "   minutesAllowed  \n",
       "0             360  \n",
       "1             360  \n",
       "2             270  \n",
       "3             180  \n",
       "4             180  \n",
       "5             180  \n",
       "6             180  "
      ]
     },
     "execution_count": 193,
     "metadata": {},
     "output_type": "execute_result"
    }
   ],
   "source": [
    "test_map = pd.DataFrame()\n",
    "test_map['templateId'] = [44, 46, 5755, 16968, 16969, 16970, 16971]\n",
    "test_map['jasperSequenceName'] = ['Simulated MCQ Practice Exam',\n",
    "                                 'Mid-Term MCQ Practice Exam',\n",
    "                                 'MCQ Diagnostic Practice Exam',\n",
    "                                 'Mid-Term MCQ Practice Exam 1 - Summer20',\n",
    "                                 'Mid-Term MCQ Practice Exam 2 - Summer20',\n",
    "                                 'Simulated MCQ Practice Exam 1 - Summer20',\n",
    "                                 'Simulated MCQ Practice Exam 2 - Summer20']\n",
    "\n",
    "test_map['sectionName'] = ['Final exam', 'Midterm exam', 'Diagnostic exam',\n",
    "                          'Mid-Term Practice Exam 1 - Summer20', 'Mid-Term Practice Exam 2 - Summer20',\n",
    "                          'Simulated Practice Exam 1 - Summer20',\n",
    "                          'Simulated Practice Exam 2 - Summer20']\n",
    "\n",
    "test_map['numQues'] = [200, 200, 150, 100, 100, 100, 100]\n",
    "test_map['responseThreshold'] = 0.75\n",
    "test_map['minutesAllowed'] = [360, 360, 270, 180, 180, 180, 180]\n",
    "\n",
    "test_map"
   ]
  },
  {
   "cell_type": "markdown",
   "id": "0820ab27",
   "metadata": {},
   "source": [
    "# Connecting to Db for Repeats enrolls"
   ]
  },
  {
   "cell_type": "code",
   "execution_count": 194,
   "id": "ab19ad05",
   "metadata": {
    "ExecuteTime": {
     "end_time": "2021-09-22T10:59:42.678047Z",
     "start_time": "2021-09-22T10:59:42.664039Z"
    }
   },
   "outputs": [],
   "source": [
    "try:\n",
    "    engine\n",
    "except:\n",
    "    engine = db_con()\n",
    "\n",
    "query_frt = \"\"\"select\n",
    "    distinct ph.id kbsenrollmentid\n",
    "from\n",
    "    kbs_billing.purchase_history ph\n",
    "    join bi_reporting.vw_product_detail prd on ph.product_id = prd.product_id\n",
    "where\n",
    "    lower(prd.product_subtype) in ('free trial');\n",
    "    \"\"\"\n",
    "\n",
    "try:\n",
    "    frt_enrols\n",
    "except:\n",
    "    frt_enrols = pd.read_sql(sql = query_frt, con = engine)\n",
    "\n",
    "query_olc = \"\"\"select\n",
    "    distinct ph.id kbsenrollmentid\n",
    "from\n",
    "    kbs_billing.purchase_history ph\n",
    "    join bi_reporting.vw_product_detail prd on ph.product_id = prd.product_id\n",
    "where\n",
    "    lower(prd.product_subtype) in ('online companion')\n",
    "    ;\"\"\"\n",
    "\n",
    "try:\n",
    "    olc_enrols\n",
    "except:\n",
    "    olc_enrols = pd.read_sql(sql = query_olc, con = engine)\n",
    "\n",
    "query_hsg_repeat = \"\"\"select\n",
    "    distinct ph.id kbsenrollmentid\n",
    "from\n",
    "    kbs_billing.purchase_history ph\n",
    "    join bi_reporting.vw_product_detail prd on ph.product_id = prd.product_id\n",
    "where\n",
    "    ph.initial_delta_k_txn_code in ('404', '405', '406');\n",
    "    --and ph.created_on >= '2018-01-01';\n",
    "\"\"\"\n",
    "\n",
    "try:\n",
    "    repeaters\n",
    "except:\n",
    "    repeaters = pd.read_sql(sql = query_hsg_repeat, con = engine)\n",
    "    repeaters['kbsenrollmentid'] = repeaters['kbsenrollmentid'].astype('str')"
   ]
  },
  {
   "cell_type": "markdown",
   "id": "f3d602b7",
   "metadata": {},
   "source": [
    "# Cleaning the data"
   ]
  },
  {
   "cell_type": "code",
   "execution_count": 195,
   "id": "6a5ae505",
   "metadata": {
    "ExecuteTime": {
     "end_time": "2021-09-22T10:59:43.675438Z",
     "start_time": "2021-09-22T10:59:43.583501Z"
    },
    "scrolled": false
   },
   "outputs": [
    {
     "name": "stdout",
     "output_type": "stream",
     "text": [
      "\u001b[1mNo duplicate correct answer\u001b[0m\n"
     ]
    }
   ],
   "source": [
    "#If we know the correct answers for all the items in response_df and correct answer column in response_df is not null\n",
    "#then we can use no_correctAnswer = False\n",
    "#and by default we work on contentItemId to get multiple correct answers\n",
    "#we get correct answers df here, we need to filter items that are having multiple versions of items\n",
    "\n",
    "cor_ans, dup_cor_ans = get_item_cor_ans(response_df, no_correctAnswer = True)"
   ]
  },
  {
   "cell_type": "code",
   "execution_count": 196,
   "id": "728fd591",
   "metadata": {
    "ExecuteTime": {
     "end_time": "2021-09-22T10:59:48.043257Z",
     "start_time": "2021-09-22T10:59:48.032254Z"
    }
   },
   "outputs": [],
   "source": [
    "#CI_old_version_list = dup_cor_ans[['contentItemId']].drop_duplicates(ignore_index=True)"
   ]
  },
  {
   "cell_type": "code",
   "execution_count": 197,
   "id": "8fede5cf",
   "metadata": {
    "ExecuteTime": {
     "end_time": "2021-09-22T10:59:48.988480Z",
     "start_time": "2021-09-22T10:59:48.975526Z"
    }
   },
   "outputs": [],
   "source": [
    "#CI_old_version_dates = pd.DataFrame({'contentItemId':[9132],\n",
    "#'cutoff_date':['2018-04-18']})\n",
    "#CI_old_version_dates['cutoff_date'] = CI_old_version_dates['cutoff_date'].astype('datetime64[ns]')\n",
    "#CI_old_version_dates"
   ]
  },
  {
   "cell_type": "code",
   "execution_count": 198,
   "id": "14784e1d",
   "metadata": {
    "ExecuteTime": {
     "end_time": "2021-09-22T10:59:49.877896Z",
     "start_time": "2021-09-22T10:59:49.863716Z"
    }
   },
   "outputs": [],
   "source": [
    "#CI_old_keys = pd.DataFrame({'contentItemId':[7420],\n",
    "#                           'correctAnswer':['3,4']})\n",
    "CI_old_keys = pd.DataFrame()"
   ]
  },
  {
   "cell_type": "markdown",
   "id": "d6a2a4c5",
   "metadata": {},
   "source": [
    "## Running cleaning function"
   ]
  },
  {
   "cell_type": "code",
   "execution_count": 199,
   "id": "5cd28e20",
   "metadata": {
    "ExecuteTime": {
     "end_time": "2021-09-22T10:59:50.802459Z",
     "start_time": "2021-09-22T10:59:50.787860Z"
    }
   },
   "outputs": [],
   "source": [
    "data_pool = {'CI_old_version_dates' : pd.DataFrame(),\n",
    "'CI_old_version_list' : pd.DataFrame(),\n",
    "'CI_old_keys' : CI_old_keys,\n",
    "'frt_enrols' : frt_enrols,\n",
    "'olc_enrols' : olc_enrols,\n",
    "'repeaters' : repeaters,\n",
    "'section_map' : pd.DataFrame(),\n",
    "'test_map' : test_map,\n",
    "'seqHist_to_exclude' : pd.DataFrame(),\n",
    "'cidf' : pd.DataFrame(),\n",
    "'field_test_items' : pd.DataFrame(),\n",
    "'ci_cols_to_include' : pd.DataFrame(),\n",
    "'interaction_type_list' : pd.DataFrame()}\n",
    "\n",
    "#field_test_items should have column name'contentItemName' to match with response_df"
   ]
  },
  {
   "cell_type": "code",
   "execution_count": 200,
   "id": "8fb3fde2",
   "metadata": {
    "ExecuteTime": {
     "end_time": "2021-09-22T10:59:54.039181Z",
     "start_time": "2021-09-22T10:59:51.737810Z"
    },
    "scrolled": false
   },
   "outputs": [
    {
     "name": "stdout",
     "output_type": "stream",
     "text": [
      "Starting clean item data function at 2021-09-22 16:29:51\n",
      "Total sequences at start:  1071\n",
      "Total users at start:  1071\n",
      "Unique items at start:  100\n",
      "Total responses at start:  107100\n",
      "\n",
      "Working on Disqualifiers :\n",
      "==============================\n",
      "User Removal\n",
      "--------------------\n",
      "Sequences with deleted names are removed: NONE\n",
      "\n",
      "Sequences with dupe content items within the same exam, removed: NONE\n",
      "\n",
      "Sequences with no KBS EID removed: NONE\n",
      "\n",
      "Sequence Removal\n",
      "--------------------\n",
      "Sequences with deleted names are removed: NONE\n",
      "\n",
      "Sequences with bad records (response = 0 with score = 1), removed: NONE\n",
      "\n",
      "Sequences with bad timing (mSecUsed < 0), removed:  11\n",
      "Users removed  11\n",
      "Unique items removed  0\n",
      "Responses removed  1100\n",
      "\n",
      "Here are the new columns after joining all the test and section maps\n",
      "{'test_num_ques', 'test_response_threshold', 'test_minutes_allowed'}\n",
      "\n",
      "Sequences with too many questions in a section, removed: NONE\n",
      "\n",
      "Item Removal\n",
      "--------------------\n",
      "Total item responses:  106000 \n",
      "\n",
      "Working on Cleaning Rules :\n",
      "==============================\n",
      "Response / Score Re-coding\n",
      "--------------------\n",
      "Remove repeat item responses, instead of recoding as omitted =  False\n",
      "Original number of responses omitted 3055\n",
      "Original number of seq w items omitted 109\n",
      "Original number of users w items omitted 109 \n",
      "\n",
      "Number of sequences removed during item exclusions: NONE\n",
      "\n",
      "Repeated items marked as omitted:  0\n",
      "Current number of responses omitted:  3055\n",
      "Current number of seq w items omitted:  109\n",
      "Current number of users w items omitted:  109\n",
      "Affected sequences:  0\n",
      "Affected users:  0 \n",
      "\n",
      "Sequences with 2nd and later instances of a repeated item coded as omitted : NONE\n",
      "\n",
      "Item response time under threshold of  5000  mSec or over  None  mSec, marked as omitted:  5393\n",
      "Current number of responses omitted:  8448\n",
      "Current number of seq w items omitted:  218\n",
      "Current number of users w items omitted:  218\n",
      "Affected sequences:  109\n",
      "Affected users:  109 \n",
      "\n",
      "Sequences with Items with time \"under\" or \"over\" given threshold of seconds coded as omitted : NONE\n",
      "\n",
      "User Removal\n",
      "--------------------\n",
      "Sequences with enrollments in \"Free Trial\" product are removed: NONE\n",
      "\n",
      "Sequences with enrollments in \"Online Companion\" product are removed: NONE\n",
      "\n",
      "Sequences with repeated enrollments are removed: NONE\n",
      "\n",
      "Sequence Removal\n",
      "--------------------\n",
      "Tutor mode sequences removed: NONE\n",
      "\n",
      "make code for this to remove ADA enrollemnts\n",
      "\n",
      "Untimed sequences removed: NONE\n",
      "\n",
      "Sequences with items fewer than __% of items attempted in a sequence, removed : 98\n",
      "Users removed  98\n",
      "Unique items removed  0\n",
      "Responses removed  9800\n",
      "\n",
      "Sequences that were not the first administration for the user, removed: NONE\n",
      "\n",
      "Sequences with items that have display sequence is null, removed :NONE\n",
      "\n",
      "Remaining number of responses in final output:  96200\n",
      "Remaining number of sequences in final output:  962\n",
      "Remaining number of users in final output:  962\n",
      "Remaining number of unique items in final output:  100\n",
      "Cleaning function time completed: 2021-09-22 16:29:54\n",
      "\n"
     ]
    }
   ],
   "source": [
    "result, cleaning_info, rejects_df = clean_item_data(data_path = path,\n",
    "                         results_path = results_path,\n",
    "                        analysis_name = analysis_name,\n",
    "                         resp = response_df,\n",
    "                         remove_users_deleted_sequences = True,\n",
    "                         remove_dup_CIs = True,\n",
    "                         remove_no_kbsEID = True,\n",
    "                         remove_deleted_sequences = True,\n",
    "                         remove_impo_response_scored = True,\n",
    "                         remove_impo_timing_seq = True,\n",
    "                         remove_seq_w_tmq = True,\n",
    "                         remove_staged_responses = False,\n",
    "                         remove_FT_items = False,\n",
    "                        data_pool = data_pool,\n",
    "                         CI_remove_before_after = 'before', #applicable for old version dates\n",
    "                         repeat_treatment = 'omit', #default omit\n",
    "                         mSec_min_threshold = 5000, #there's y/n condition for timing if none provided\n",
    "                         mSec_max_threshold = None, #so if condition is not needed.\n",
    "                         sec_min_threshold = None,\n",
    "                         sec_max_threshold = None,\n",
    "                         remove_frt_users = True,\n",
    "                         remove_olc_users = True,\n",
    "                         remove_repeat_enrolls = True,\n",
    "                         remove_tutor = True,\n",
    "                         remove_ada_seq = True,\n",
    "                         remove_untimed_seq = True,\n",
    "                         remove_incomplete_seq = False,\n",
    "                         seq_item_minutes_threshold = None, #input in terms of minutes here\n",
    "                         seq_section_minutes_threshold = None, #input in terms of minutes here\n",
    "                         seq_total_minutes_threshold = None, #input in terms of minutes here\n",
    "                         qbank = False, #if qbank==false and section_map is not empty then sec_num_attempted is validated against given min_items_per_seq from secton_map\n",
    "                         min_itmes_per_seq = None, #if qbank==true and section_map provided, sequence_num_attempted is validated against given min_items_per_seq\n",
    "                         section_calc = True, #if section map provided but min_item_per_seq column not present in it & qbank == false then this gets activated for validating sec_perc_attempted vs section_resp_threshold(comes from section_map)\n",
    "                         #test_map = test_map, #if section_map is empty this gets activated, and qbank==false then test_resp_threshold comes from test_map\n",
    "                         #seq_item_resp_threshold = .75,\n",
    "                         remove_unscored = False,\n",
    "                         #seqHist_to_exclude = pd.DataFrame(), #should have column sequenceId in it\n",
    "                         precombined_files = True, #used to add columns from cidf to response_df\n",
    "                         #cidf = pd.DataFrame(), #pass cidf\n",
    "                         #interaction_type_list = [], #pass interactionTypeIds in this list\n",
    "                         #ci_cols_to_include = [], #pass columns names of cidf to include in response_df (ciname, ciid by default added if precombined files is True)\n",
    "                         remove_repeat_test_administrations = True,\n",
    "                        remove_seq_wo_dispseq = True)\n",
    "    "
   ]
  },
  {
   "cell_type": "markdown",
   "id": "82294ab0",
   "metadata": {},
   "source": [
    "## Exporting cleaning info & cleaned response_data"
   ]
  },
  {
   "cell_type": "code",
   "execution_count": 201,
   "id": "be9228d7",
   "metadata": {
    "ExecuteTime": {
     "end_time": "2021-09-22T10:59:57.117814Z",
     "start_time": "2021-09-22T10:59:54.945487Z"
    }
   },
   "outputs": [],
   "source": [
    "#Exporting cleaned response_data\n",
    "result = result.sort_values(by=['studentId', 'activityId', 'displaySeq'], ignore_index= True)\n",
    "result.to_csv(results_path+analysis_name+'_responseData.csv', index = False)\n",
    "\n",
    "#Exporting cleaning info\n",
    "cleaning_info.to_csv(results_path+analysis_name+'_cleaningInfo.csv')\n",
    "\n",
    "#Exporting rejects info\n",
    "rejects_df.sort_values(by=['studentId', 'templateId'], ignore_index = True).to_csv(results_path+analysis_name+'_rejects_info.csv', index = False)"
   ]
  },
  {
   "cell_type": "markdown",
   "id": "cddc2f8e",
   "metadata": {},
   "source": [
    "# Creating User Level Matrices"
   ]
  },
  {
   "cell_type": "code",
   "execution_count": 202,
   "id": "37b0a844",
   "metadata": {
    "ExecuteTime": {
     "end_time": "2021-09-22T10:59:58.646165Z",
     "start_time": "2021-09-22T10:59:58.054159Z"
    }
   },
   "outputs": [
    {
     "name": "stdout",
     "output_type": "stream",
     "text": [
      "Finished creating matrix for Item_Scores\n",
      "Finished creating matrix for Responses\n",
      "Finished creating matrix for Milliseconds_per_Item\n"
     ]
    }
   ],
   "source": [
    "#Reading cleaned data\n",
    "all_resp = result.copy()\n",
    "\n",
    "all_resp = all_resp.sort_values(by=['activityName', 'displaySeq'])\n",
    "\n",
    "#col_name:filename\n",
    "vars_for_matrix =  {'score':'Item_Scores',\n",
    "                   'response':'Responses',\n",
    "                   'mSecUsed':'Milliseconds_per_Item'}\n",
    "\n",
    "#making matrices\n",
    "big_matrix = make_user_level_matrices(all_resp,\n",
    "                               vars_for_matrices = vars_for_matrix,\n",
    "                               destination_file_path = results_path,\n",
    "                               destination_file_name_prefix = '_User_level_',\n",
    "                                analysis_name = analysis_name,\n",
    "                                omit_code = '.',\n",
    "                                not_seen_code = '-99',\n",
    "                                use_display_order = True,\n",
    "                               qbank = False)"
   ]
  },
  {
   "cell_type": "markdown",
   "id": "0b66a522",
   "metadata": {},
   "source": [
    "# Metadata"
   ]
  },
  {
   "cell_type": "markdown",
   "id": "d8165d9a",
   "metadata": {},
   "source": [
    "## Sequence Level Information"
   ]
  },
  {
   "cell_type": "code",
   "execution_count": 203,
   "id": "5ccf19f0",
   "metadata": {
    "ExecuteTime": {
     "end_time": "2021-09-22T10:59:59.641077Z",
     "start_time": "2021-09-22T10:59:59.547241Z"
    }
   },
   "outputs": [],
   "source": [
    "activity_level_info = make_activity_level_info(df = result,\n",
    "                                              results_path = results_path,\n",
    "                                              analysis_name = analysis_name)"
   ]
  },
  {
   "cell_type": "markdown",
   "id": "e01999bc",
   "metadata": {},
   "source": [
    "## User Level Information"
   ]
  },
  {
   "cell_type": "code",
   "execution_count": 204,
   "id": "fa71e50e",
   "metadata": {
    "ExecuteTime": {
     "end_time": "2021-09-22T11:00:00.917448Z",
     "start_time": "2021-09-22T11:00:00.761829Z"
    }
   },
   "outputs": [],
   "source": [
    "user_info = make_user_level_info(df = result,\n",
    "                                results_path = results_path,\n",
    "                                analysis_name = analysis_name,\n",
    "                                test_map = test_map)"
   ]
  },
  {
   "cell_type": "markdown",
   "id": "28c29bd3",
   "metadata": {},
   "source": [
    "## Item Level Information"
   ]
  },
  {
   "cell_type": "code",
   "execution_count": 205,
   "id": "cf3fe686",
   "metadata": {
    "ExecuteTime": {
     "end_time": "2021-09-22T11:00:02.307683Z",
     "start_time": "2021-09-22T11:00:02.170840Z"
    }
   },
   "outputs": [],
   "source": [
    "item_level_info = make_item_level_info(df = result,\n",
    "                                       qbank = False,\n",
    "                                      content_df = content_df,\n",
    "                                      results_path = results_path,\n",
    "                                      analysis_name = analysis_name,\n",
    "                                      corr_ans = cor_ans)"
   ]
  },
  {
   "cell_type": "code",
   "execution_count": null,
   "id": "386de45e",
   "metadata": {},
   "outputs": [],
   "source": []
  }
 ],
 "metadata": {
  "hide_input": false,
  "kernelspec": {
   "display_name": "Python 3",
   "language": "python",
   "name": "python3"
  },
  "language_info": {
   "codemirror_mode": {
    "name": "ipython",
    "version": 3
   },
   "file_extension": ".py",
   "mimetype": "text/x-python",
   "name": "python",
   "nbconvert_exporter": "python",
   "pygments_lexer": "ipython3",
   "version": "3.8.8"
  },
  "toc": {
   "base_numbering": 1,
   "nav_menu": {},
   "number_sections": true,
   "sideBar": true,
   "skip_h1_title": false,
   "title_cell": "Table of Contents",
   "title_sidebar": "Contents",
   "toc_cell": false,
   "toc_position": {},
   "toc_section_display": true,
   "toc_window_display": false
  },
  "varInspector": {
   "cols": {
    "lenName": 16,
    "lenType": 16,
    "lenVar": 40
   },
   "kernels_config": {
    "python": {
     "delete_cmd_postfix": "",
     "delete_cmd_prefix": "del ",
     "library": "var_list.py",
     "varRefreshCmd": "print(var_dic_list())"
    },
    "r": {
     "delete_cmd_postfix": ") ",
     "delete_cmd_prefix": "rm(",
     "library": "var_list.r",
     "varRefreshCmd": "cat(var_dic_list()) "
    }
   },
   "types_to_exclude": [
    "module",
    "function",
    "builtin_function_or_method",
    "instance",
    "_Feature"
   ],
   "window_display": false
  }
 },
 "nbformat": 4,
 "nbformat_minor": 5
}
