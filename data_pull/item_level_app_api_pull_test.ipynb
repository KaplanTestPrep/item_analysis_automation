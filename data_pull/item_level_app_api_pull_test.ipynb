{
 "cells": [
  {
   "cell_type": "markdown",
   "id": "6d40e045-4a5b-4737-bc3a-f6f692158531",
   "metadata": {},
   "source": [
    "Item level data app notes: https://docs.google.com/document/d/13LjUO9jyY1hgi6B99cY_NbQmPj_fRpXABzcDb5gIRWs/edit#"
   ]
  },
  {
   "cell_type": "code",
   "execution_count": 1,
   "id": "dab2ab31-f541-4161-8384-56da99ba3d8e",
   "metadata": {},
   "outputs": [],
   "source": [
    "import requests\n",
    "import hashlib\n",
    "from datetime import date"
   ]
  },
  {
   "cell_type": "code",
   "execution_count": 2,
   "id": "e94813ec-59e8-437c-8ee1-6f6337f4d776",
   "metadata": {},
   "outputs": [
    {
     "data": {
      "text/plain": [
       "'2022-07-20'"
      ]
     },
     "execution_count": 2,
     "metadata": {},
     "output_type": "execute_result"
    }
   ],
   "source": [
    "today = date.today().strftime(\"%Y-%m-%d\")\n",
    "today"
   ]
  },
  {
   "cell_type": "code",
   "execution_count": 3,
   "id": "664cf0e7-e9fd-42ba-a4fd-63206240d4dc",
   "metadata": {},
   "outputs": [],
   "source": [
    "api_url = 'http://knowledge.eng.kaplan.com/bjorne/itemLevelData/service.php'\n",
    "\n",
    "secret = 'o8dsgn8y&^b'\n",
    "api_token = hashlib.md5((today+secret).encode())"
   ]
  },
  {
   "cell_type": "code",
   "execution_count": 4,
   "id": "0394b573-b82e-45de-9ce9-0040d42c202e",
   "metadata": {},
   "outputs": [
    {
     "data": {
      "text/plain": [
       "'190eda76f72abf35d0149a6cc8e7f026'"
      ]
     },
     "execution_count": 4,
     "metadata": {},
     "output_type": "execute_result"
    }
   ],
   "source": [
    "api_token.hexdigest()"
   ]
  },
  {
   "cell_type": "code",
   "execution_count": 6,
   "id": "c03b074b-1633-4ddd-afeb-7134f84eefe8",
   "metadata": {},
   "outputs": [],
   "source": [
    "import requests\n",
    "import hashlib\n",
    "import json\n",
    "from datetime import date\n",
    "\n",
    "today = date.today().strftime(\"%Y-%m-%d\")\n",
    "\n",
    "api_url = 'http://knowledge.eng.kaplan.com/bjorne/itemLevelData/service.php'\n",
    "\n",
    "secret = 'o8dsgn8y&^b'\n",
    "api_token = hashlib.md5((today+secret).encode())"
   ]
  },
  {
   "cell_type": "markdown",
   "id": "741b74fd-1bea-4d24-a172-9ef6da8d3f1e",
   "metadata": {},
   "source": [
    "###### get current jobs"
   ]
  },
  {
   "cell_type": "code",
   "execution_count": 8,
   "id": "03432ff5-cc20-4535-9650-a41c25b68a8e",
   "metadata": {},
   "outputs": [
    {
     "data": {
      "text/plain": [
       "{'chakravarthy.rachuri_20220718_0213': {'job_id': 'chakravarthy.rachuri_20220718_0213',\n",
       "  'create_time': '2022-07-18 02:13',\n",
       "  'minutes_since_creation': 3314.2,\n",
       "  'hours_since_creation': 55.2,\n",
       "  'pause_status': None,\n",
       "  'last_start': '2022-07-19 23:23',\n",
       "  'minutes_since_start': 604.8,\n",
       "  'hours_since_start': 10.1,\n",
       "  'last_activity': '2022-07-20 09:22',\n",
       "  'minutes_since_last_activity': 4.9,\n",
       "  'continuous_runtime_hours': 10,\n",
       "  'current_step': '6 of 8: gathering item level response data',\n",
       "  'extractions': {'SUMMARY': {'total': 89605,\n",
       "    'remaining': 39789,\n",
       "    'percent_complete': 55},\n",
       "   'Atom (200)': {'total': 89605, 'remaining': 39789, 'percent_complete': 55}},\n",
       "  'input_variables': {'report_name': '',\n",
       "   'report_type': 'full_item_level_data',\n",
       "   'start_date': '2020-12-01',\n",
       "   'end_date': '2022-07-18',\n",
       "   'date_range_for': 'activity completed',\n",
       "   'enrollment_ids': [],\n",
       "   'programs': ['MCAT'],\n",
       "   'products': [],\n",
       "   'content_pools': [],\n",
       "   'activity_types': [],\n",
       "   'activity_templates': ['Atom|mcat-fl-1-1b6e4',\n",
       "    'Atom|mcat-fl-2-1b6e5',\n",
       "    'Atom|mcat-fl-3-1b6e6',\n",
       "    'Atom|mcat-fl-4-1b6e8',\n",
       "    'Atom|mcat-fl-5-1b6e9',\n",
       "    'Atom|mcat-teacher-resources-ft-in-fl-cp',\n",
       "    'Atom|mcat-test-likeness2020',\n",
       "    'Atom|mcat-test-likeness2020-no-giveaway',\n",
       "    'Atom|mcat8e-dejaq-aamc2-bb',\n",
       "    'Atom|mcat8e-dejaq-aamc2-cars',\n",
       "    'Atom|mcat8e-dejaq-aamc2-ps',\n",
       "    'Atom|mcat8e-dejaq-aamc3-bb',\n",
       "    'Atom|mcat8e-dejaq-aamc3-cars',\n",
       "    'Atom|mcat8e-dejaq-aamc3-cp',\n",
       "    'Atom|mcat8e-dejaq-aamc3-ps',\n",
       "    'Atom|mcat8e-dejaq-aamc4-bb',\n",
       "    'Atom|mcat8e-dejaq-aamc4-cars',\n",
       "    'Atom|mcat8e-dejaq-aamc4-cp',\n",
       "    'Atom|mcat8e-dejaq-aamc4-ps'],\n",
       "   'include_alternate_timing': None,\n",
       "   'include_tutor_mode': None,\n",
       "   'include_extra_qbank_scores': None,\n",
       "   'include_item_yield': None,\n",
       "   'content_item_names': [],\n",
       "   'user_email': 'chakravarthy.rachuri@kaplan.edu',\n",
       "   'output_dir': 'chakravarthy.rachuri_20220718_0213',\n",
       "   'output_file_type': 'tsv'}},\n",
       " 'reduced_nclex_vinodkumar.immadisetty_20220718_0138': {'job_id': 'reduced_nclex_vinodkumar.immadisetty_20220718_0138',\n",
       "  'create_time': '2022-07-18 01:38',\n",
       "  'minutes_since_creation': 3349.4,\n",
       "  'hours_since_creation': 55.8,\n",
       "  'pause_status': None,\n",
       "  'last_start': '2022-07-19 23:23',\n",
       "  'minutes_since_start': 604.6,\n",
       "  'hours_since_start': 10.1,\n",
       "  'last_activity': '2022-07-20 09:25',\n",
       "  'minutes_since_last_activity': 2.5,\n",
       "  'continuous_runtime_hours': 10,\n",
       "  'current_step': '6 of 8: gathering item level response data',\n",
       "  'extractions': {'SUMMARY': {'total': 71900,\n",
       "    'remaining': 3720,\n",
       "    'percent_complete': 94},\n",
       "   'Atom (200)': {'total': 71900, 'remaining': 3720, 'percent_complete': 94}},\n",
       "  'input_variables': {'report_name': 'reduced nclex',\n",
       "   'report_type': 'full_item_level_data',\n",
       "   'start_date': '2021-01-01',\n",
       "   'end_date': '2022-07-18',\n",
       "   'date_range_for': 'activity completed',\n",
       "   'enrollment_ids': [],\n",
       "   'programs': ['NCLEX'],\n",
       "   'products': [],\n",
       "   'content_pools': [],\n",
       "   'activity_types': [],\n",
       "   'activity_templates': ['Atom|diagnostic-a',\n",
       "    'Atom|rn-diagnostic-retail',\n",
       "    'Atom|rn-readiness-a'],\n",
       "   'include_alternate_timing': None,\n",
       "   'include_tutor_mode': None,\n",
       "   'include_extra_qbank_scores': None,\n",
       "   'include_item_yield': None,\n",
       "   'content_item_names': [],\n",
       "   'user_email': 'vinodkumar.immadisetty@kaplan.com',\n",
       "   'output_dir': 'reduced_nclex_vinodkumar.immadisetty_20220718_0138',\n",
       "   'output_file_type': 'tsv'}},\n",
       " 'act_ll_activity_only_hannah.flaherty_20220718_1252': {'job_id': 'act_ll_activity_only_hannah.flaherty_20220718_1252',\n",
       "  'current_step': 'completed',\n",
       "  'completion_time': '2022-07-18 12:53',\n",
       "  'download_url': 'https://knowledge.eng.kaplan.com/bjorne/itemLevelData/zips/act_ll_activity_only_hannah.flaherty_20220718_1252.zip'},\n",
       " 'act_sp_activity_only_hannah.flaherty_20220718_1251': {'job_id': 'act_sp_activity_only_hannah.flaherty_20220718_1251',\n",
       "  'current_step': 'completed',\n",
       "  'completion_time': '2022-07-18 12:54',\n",
       "  'download_url': 'https://knowledge.eng.kaplan.com/bjorne/itemLevelData/zips/act_sp_activity_only_hannah.flaherty_20220718_1251.zip'},\n",
       " 'chris.combs_20220714_1646': {'job_id': 'chris.combs_20220714_1646',\n",
       "  'current_step': 'completed',\n",
       "  'completion_time': '2022-07-14 16:46',\n",
       "  'download_url': 'https://knowledge.eng.kaplan.com/bjorne/itemLevelData/zips/chris.combs_20220714_1646.zip'},\n",
       " 'mcat_flpt_unmodified_chakravarthy.rachuri_20220718_0133': {'job_id': 'mcat_flpt_unmodified_chakravarthy.rachuri_20220718_0133',\n",
       "  'current_step': 'completed',\n",
       "  'completion_time': '2022-07-18 03:13',\n",
       "  'download_url': 'https://knowledge.eng.kaplan.com/bjorne/itemLevelData/zips/mcat_flpt_unmodified_chakravarthy.rachuri_20220718_0133.zip'},\n",
       " 'mcat_fl_vinodkumar.immadisetty_20220711_0406': {'job_id': 'mcat_fl_vinodkumar.immadisetty_20220711_0406',\n",
       "  'current_step': 'completed',\n",
       "  'completion_time': '2022-07-11 10:40',\n",
       "  'download_url': 'https://knowledge.eng.kaplan.com/bjorne/itemLevelData/zips/mcat_fl_vinodkumar.immadisetty_20220711_0406.zip'},\n",
       " 'pediatric_ap_ngn_vinodkumar.immadisetty_20220707_0052': {'job_id': 'pediatric_ap_ngn_vinodkumar.immadisetty_20220707_0052',\n",
       "  'current_step': 'completed',\n",
       "  'completion_time': '2022-07-07 06:57',\n",
       "  'download_url': 'https://knowledge.eng.kaplan.com/bjorne/itemLevelData/zips/pediatric_ap_ngn_vinodkumar.immadisetty_20220707_0052.zip'},\n",
       " 'rn_it_metadata_chris.combs_20220621_1248': {'job_id': 'rn_it_metadata_chris.combs_20220621_1248',\n",
       "  'current_step': 'completed',\n",
       "  'completion_time': '2022-06-21 12:48',\n",
       "  'download_url': 'https://knowledge.eng.kaplan.com/bjorne/itemLevelData/zips/rn_it_metadata_chris.combs_20220621_1248.zip'},\n",
       " 'vinodkumar.immadisetty_20220624_0601': {'job_id': 'vinodkumar.immadisetty_20220624_0601',\n",
       "  'current_step': 'completed',\n",
       "  'completion_time': '2022-06-24 06:02',\n",
       "  'download_url': 'https://knowledge.eng.kaplan.com/bjorne/itemLevelData/zips/vinodkumar.immadisetty_20220624_0601.zip'},\n",
       " 'vinodkumar.immadisetty_20220624_0632': {'job_id': 'vinodkumar.immadisetty_20220624_0632',\n",
       "  'current_step': 'completed',\n",
       "  'completion_time': '2022-06-24 06:33',\n",
       "  'download_url': 'https://knowledge.eng.kaplan.com/bjorne/itemLevelData/zips/vinodkumar.immadisetty_20220624_0632.zip'},\n",
       " 'vinodkumar.immadisetty_20220624_0640': {'job_id': 'vinodkumar.immadisetty_20220624_0640',\n",
       "  'current_step': 'completed',\n",
       "  'completion_time': '2022-06-24 06:40',\n",
       "  'download_url': 'https://knowledge.eng.kaplan.com/bjorne/itemLevelData/zips/vinodkumar.immadisetty_20220624_0640.zip'},\n",
       " 'vinodkumar.immadisetty_20220624_0641': {'job_id': 'vinodkumar.immadisetty_20220624_0641',\n",
       "  'current_step': 'completed',\n",
       "  'completion_time': '2022-06-24 06:41',\n",
       "  'download_url': 'https://knowledge.eng.kaplan.com/bjorne/itemLevelData/zips/vinodkumar.immadisetty_20220624_0641.zip'},\n",
       " 'vinodkumar.immadisetty_20220624_0642': {'job_id': 'vinodkumar.immadisetty_20220624_0642',\n",
       "  'current_step': 'completed',\n",
       "  'completion_time': '2022-06-24 06:42',\n",
       "  'download_url': 'https://knowledge.eng.kaplan.com/bjorne/itemLevelData/zips/vinodkumar.immadisetty_20220624_0642.zip'},\n",
       " 'vinodkumar.immadisetty_20220624_0643': {'job_id': 'vinodkumar.immadisetty_20220624_0643',\n",
       "  'current_step': 'completed',\n",
       "  'completion_time': '2022-06-24 06:43',\n",
       "  'download_url': 'https://knowledge.eng.kaplan.com/bjorne/itemLevelData/zips/vinodkumar.immadisetty_20220624_0643.zip'},\n",
       " 'vinodkumar.immadisetty_20220624_0644': {'job_id': 'vinodkumar.immadisetty_20220624_0644',\n",
       "  'current_step': 'completed',\n",
       "  'completion_time': '2022-06-24 06:44',\n",
       "  'download_url': 'https://knowledge.eng.kaplan.com/bjorne/itemLevelData/zips/vinodkumar.immadisetty_20220624_0644.zip'},\n",
       " 'vinodkumar.immadisetty_20220624_0645': {'job_id': 'vinodkumar.immadisetty_20220624_0645',\n",
       "  'current_step': 'completed',\n",
       "  'completion_time': '2022-06-24 06:45',\n",
       "  'download_url': 'https://knowledge.eng.kaplan.com/bjorne/itemLevelData/zips/vinodkumar.immadisetty_20220624_0645.zip'},\n",
       " 'vinodkumar.immadisetty_20220624_0646': {'job_id': 'vinodkumar.immadisetty_20220624_0646',\n",
       "  'current_step': 'completed',\n",
       "  'completion_time': '2022-06-24 06:46',\n",
       "  'download_url': 'https://knowledge.eng.kaplan.com/bjorne/itemLevelData/zips/vinodkumar.immadisetty_20220624_0646.zip'},\n",
       " 'vinodkumar.immadisetty_20220624_1621': {'job_id': 'vinodkumar.immadisetty_20220624_1621',\n",
       "  'current_step': 'completed',\n",
       "  'completion_time': '2022-06-24 16:22',\n",
       "  'download_url': 'https://knowledge.eng.kaplan.com/bjorne/itemLevelData/zips/vinodkumar.immadisetty_20220624_1621.zip'},\n",
       " 'vinodkumar.immadisetty_20220624_1631': {'job_id': 'vinodkumar.immadisetty_20220624_1631',\n",
       "  'current_step': 'completed',\n",
       "  'completion_time': '2022-06-24 16:32',\n",
       "  'download_url': 'https://knowledge.eng.kaplan.com/bjorne/itemLevelData/zips/vinodkumar.immadisetty_20220624_1631.zip'},\n",
       " 'vinodkumar.immadisetty_20220711_0536': {'job_id': 'vinodkumar.immadisetty_20220711_0536',\n",
       "  'current_step': 'completed',\n",
       "  'completion_time': '2022-07-11 05:36',\n",
       "  'download_url': 'https://knowledge.eng.kaplan.com/bjorne/itemLevelData/zips/vinodkumar.immadisetty_20220711_0536.zip'}}"
      ]
     },
     "execution_count": 8,
     "metadata": {},
     "output_type": "execute_result"
    }
   ],
   "source": [
    "params01 = {\"auth_token\":api_token.hexdigest(),\"command\":\"get_current_jobs\"}\n",
    "response01 = requests.post(api_url, data=json.dumps(params01))\n",
    "\n",
    "response01.json()"
   ]
  },
  {
   "cell_type": "markdown",
   "id": "b12fadfc-f0dd-40c4-81bc-cb1b0d42c72d",
   "metadata": {},
   "source": [
    "###### submit_job"
   ]
  },
  {
   "cell_type": "code",
   "execution_count": 27,
   "id": "1c02c953-9629-4804-b64d-c9f03aea0f9d",
   "metadata": {},
   "outputs": [],
   "source": [
    "params02 = {\"auth_token\":api_token.hexdigest(),\n",
    "            \"command\":\"submit_job\",    \n",
    "            \"input_variables\": {\n",
    "                \"report_name\": \"erykanosal_api_test_01\",\n",
    "                \"report_type\": \"full_item_level_data\",\n",
    "                \"start_date\": \"2021-01-01\",\n",
    "                \"end_date\": \"2022-06-30\",\n",
    "                \"date_range_for\": \"activity completed\",\n",
    "                \"enrollment_ids\": [],\n",
    "                \"programs\": [],\n",
    "                \"products\": [],\n",
    "                \"activity_types\": [],\n",
    "                \"activity_templates\": [\n",
    "                    \"Slingshot|17184\",\n",
    "                    \"Slingshot|17185\",\n",
    "                    \"Slingshot|17186\",\n",
    "                    \"Slingshot|17187\"\n",
    "                ],\n",
    "                \"include_tutor_mode\": False,\n",
    "                \"individual_responses\": False,\n",
    "                \"include_extra_qbank_scores\": False,\n",
    "                \"include_item_yield\": False,\n",
    "                \"include_alternate_timing\": False,\n",
    "                \"user_email\": \"eryka.nosal@kaplan.com\"\n",
    "            }\n",
    "}\n",
    "response02 = requests.post(api_url, data=json.dumps(params02))"
   ]
  },
  {
   "cell_type": "code",
   "execution_count": 28,
   "id": "8e3cf09c-70ac-454f-95c2-225c16e86b5d",
   "metadata": {},
   "outputs": [
    {
     "data": {
      "text/plain": [
       "{'success': 'New job created.',\n",
       " 'job_id': 'erykanosal_api_test_01_eryka.nosal_20220720_1100',\n",
       " 'input_variables': {'report_name': 'erykanosal_api_test_01',\n",
       "  'report_type': 'full_item_level_data',\n",
       "  'start_date': '2021-01-01',\n",
       "  'end_date': '2022-06-30',\n",
       "  'date_range_for': 'activity completed',\n",
       "  'enrollment_ids': [],\n",
       "  'programs': [],\n",
       "  'products': [],\n",
       "  'activity_types': [],\n",
       "  'activity_templates': ['Slingshot|17184',\n",
       "   'Slingshot|17185',\n",
       "   'Slingshot|17186',\n",
       "   'Slingshot|17187'],\n",
       "  'include_tutor_mode': False,\n",
       "  'individual_responses': False,\n",
       "  'include_extra_qbank_scores': False,\n",
       "  'include_item_yield': False,\n",
       "  'include_alternate_timing': False,\n",
       "  'user_email': 'eryka.nosal@kaplan.com',\n",
       "  'output_dir': 'erykanosal_api_test_01_eryka.nosal_20220720_1100',\n",
       "  'output_file_type': 'tsv'}}"
      ]
     },
     "execution_count": 28,
     "metadata": {},
     "output_type": "execute_result"
    }
   ],
   "source": [
    "response02.json()"
   ]
  },
  {
   "cell_type": "code",
   "execution_count": 29,
   "id": "c3cf623f-f8c7-44dd-9cd4-244b6e744140",
   "metadata": {},
   "outputs": [
    {
     "data": {
      "text/plain": [
       "'{\"success\":\"New job created.\",\"job_id\":\"erykanosal_api_test_01_eryka.nosal_20220720_1100\",\"input_variables\":{\"report_name\":\"erykanosal_api_test_01\",\"report_type\":\"full_item_level_data\",\"start_date\":\"2021-01-01\",\"end_date\":\"2022-06-30\",\"date_range_for\":\"activity completed\",\"enrollment_ids\":[],\"programs\":[],\"products\":[],\"activity_types\":[],\"activity_templates\":[\"Slingshot|17184\",\"Slingshot|17185\",\"Slingshot|17186\",\"Slingshot|17187\"],\"include_tutor_mode\":false,\"individual_responses\":false,\"include_extra_qbank_scores\":false,\"include_item_yield\":false,\"include_alternate_timing\":false,\"user_email\":\"eryka.nosal@kaplan.com\",\"output_dir\":\"erykanosal_api_test_01_eryka.nosal_20220720_1100\",\"output_file_type\":\"tsv\"}}'"
      ]
     },
     "execution_count": 29,
     "metadata": {},
     "output_type": "execute_result"
    }
   ],
   "source": [
    "response02.text"
   ]
  }
 ],
 "metadata": {
  "kernelspec": {
   "display_name": "Python 3",
   "language": "python",
   "name": "python3"
  },
  "language_info": {
   "codemirror_mode": {
    "name": "ipython",
    "version": 3
   },
   "file_extension": ".py",
   "mimetype": "text/x-python",
   "name": "python",
   "nbconvert_exporter": "python",
   "pygments_lexer": "ipython3",
   "version": "3.9.1"
  }
 },
 "nbformat": 4,
 "nbformat_minor": 5
}
