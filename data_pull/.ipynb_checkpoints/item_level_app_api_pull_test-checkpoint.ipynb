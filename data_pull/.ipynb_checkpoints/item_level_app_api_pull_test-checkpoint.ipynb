{
 "cells": [
  {
   "cell_type": "markdown",
   "id": "6d40e045-4a5b-4737-bc3a-f6f692158531",
   "metadata": {},
   "source": [
    "Item level data app notes: https://docs.google.com/document/d/13LjUO9jyY1hgi6B99cY_NbQmPj_fRpXABzcDb5gIRWs/edit#"
   ]
  },
  {
   "cell_type": "code",
   "execution_count": null,
   "id": "c03b074b-1633-4ddd-afeb-7134f84eefe8",
   "metadata": {},
   "outputs": [],
   "source": [
    "import requests\n",
    "import hashlib\n",
    "import json\n",
    "import zipfile\n",
    "import io\n",
    "from datetime import date\n",
    "\n",
    "today = date.today().strftime(\"%Y-%m-%d\")\n",
    "\n",
    "api_url = 'http://knowledge.eng.kaplan.com/bjorne/itemLevelData/service.php'\n",
    "\n",
    "secret = 'o8dsgn8y&^b'\n",
    "api_token = hashlib.md5((today+secret).encode())"
   ]
  },
  {
   "cell_type": "code",
   "execution_count": null,
   "id": "6c92f0db-c686-4243-8938-b484eb4aa8f9",
   "metadata": {},
   "outputs": [],
   "source": [
    "api_token.hexdigest()"
   ]
  },
  {
   "cell_type": "markdown",
   "id": "741b74fd-1bea-4d24-a172-9ef6da8d3f1e",
   "metadata": {},
   "source": [
    "## get current jobs"
   ]
  },
  {
   "cell_type": "code",
   "execution_count": null,
   "id": "03432ff5-cc20-4535-9650-a41c25b68a8e",
   "metadata": {},
   "outputs": [],
   "source": [
    "params01 = {\"auth_token\":api_token.hexdigest(),\"command\":\"get_current_jobs\"}\n",
    "response01 = requests.post(api_url, data=json.dumps(params01))\n",
    "\n",
    "response01.json()"
   ]
  },
  {
   "cell_type": "markdown",
   "id": "b12fadfc-f0dd-40c4-81bc-cb1b0d42c72d",
   "metadata": {},
   "source": [
    "## submit_job"
   ]
  },
  {
   "cell_type": "code",
   "execution_count": null,
   "id": "1c02c953-9629-4804-b64d-c9f03aea0f9d",
   "metadata": {},
   "outputs": [],
   "source": [
    "params02 = {\"auth_token\":api_token.hexdigest(),\n",
    "            \"command\":\"submit_job\",    \n",
    "            \"input_variables\": {\n",
    "                \"report_name\": \"erykanosal_api_test\",\n",
    "                \"report_type\": \"full_item_level_data\",\n",
    "                \"start_date\": \"2021-01-01\",\n",
    "                \"end_date\": \"2022-06-30\",\n",
    "                \"date_range_for\": \"activity completed\",\n",
    "                \"enrollment_ids\": [],\n",
    "                \"programs\": [],\n",
    "                \"products\": [],\n",
    "                \"activity_types\": [],\n",
    "                \"activity_templates\": [\n",
    "                    \"Slingshot|17184\",\n",
    "                    \"Slingshot|17185\",\n",
    "                    \"Slingshot|17186\",\n",
    "                    \"Slingshot|17187\"\n",
    "                ],\n",
    "                \"include_tutor_mode\": False,\n",
    "                \"individual_responses\": False,\n",
    "                \"include_extra_qbank_scores\": False,\n",
    "                \"include_item_yield\": False,\n",
    "                \"include_alternate_timing\": False,\n",
    "                \"user_email\": \"eryka.nosal@kaplan.com\"\n",
    "            }\n",
    "}\n",
    "response02 = requests.post(api_url, data=json.dumps(params02))\n",
    "result02 = response02.json()"
   ]
  },
  {
   "cell_type": "code",
   "execution_count": null,
   "id": "3ccd763a-73bb-4b72-9231-65dda7d0a70e",
   "metadata": {},
   "outputs": [],
   "source": [
    "result02"
   ]
  },
  {
   "cell_type": "markdown",
   "id": "5c77c771-f1df-4b02-b429-5ff821883bea",
   "metadata": {},
   "source": [
    "## download zip"
   ]
  },
  {
   "cell_type": "code",
   "execution_count": null,
   "id": "f88360de-6c2f-4282-81c5-6e7506778449",
   "metadata": {},
   "outputs": [],
   "source": [
    "params03 = {\"auth_token\":api_token.hexdigest(), \"command\":\"get_job_status\",\"job_id\":\"erykanosal_api_test_eryka.nosal_20220721_0906\"}\n",
    "response03 = requests.get(api_url, data=json.dumps(params03))\n",
    "result03 = response03.json()\n",
    "download_url = result03[\"download_url\"] # returns https://knowledge.eng.kaplan.com/bjorne/itemLevelData/zips/erykanosal_api_test_eryka.nosal_20220721_0906.zip\n",
    "download_url"
   ]
  },
  {
   "cell_type": "code",
   "execution_count": null,
   "id": "b03a71de-9ab7-4b42-8aef-b281330dcea7",
   "metadata": {},
   "outputs": [],
   "source": [
    "file = requests.get(download_url)\n",
    "z = zipfile.ZipFile(io.BytesIO(file.content))\n",
    "z.extractall(\"\")"
   ]
  },
  {
   "cell_type": "code",
   "execution_count": null,
   "id": "5892790a-b8a1-44d3-950d-c329badac7e8",
   "metadata": {},
   "outputs": [],
   "source": []
  }
 ],
 "metadata": {
  "kernelspec": {
   "display_name": "Python 3",
   "language": "python",
   "name": "python3"
  },
  "language_info": {
   "codemirror_mode": {
    "name": "ipython",
    "version": 3
   },
   "file_extension": ".py",
   "mimetype": "text/x-python",
   "name": "python",
   "nbconvert_exporter": "python",
   "pygments_lexer": "ipython3",
   "version": "3.9.1"
  }
 },
 "nbformat": 4,
 "nbformat_minor": 5
}
